{
 "cells": [
  {
   "cell_type": "markdown",
   "metadata": {},
   "source": [
    "##    ĐỒ ÁN CUỐI KỲ MÔN: NHẬP MÔN KHOA HỌC DỮ LIỆU (HCMUS)\n",
    "<ul><h2>GV: TRẦN TRUNG KIÊN <br> SV: Nguyễn Ngọc Bình - Nguyễn Duy Khải</h2></ul>\n",
    " "
   ]
  },
  {
   "cell_type": "markdown",
   "metadata": {},
   "source": [
    "<p></p>"
   ]
  },
  {
   "cell_type": "markdown",
   "metadata": {},
   "source": [
    "### ĐỒ ÁN NÀY THỰC HIỆN MỘT CÂU HỎI: Đánh giá chỉ số IMDB của những bộ phim gần đây (2019-2020)"
   ]
  },
  {
   "cell_type": "markdown",
   "metadata": {},
   "source": [
    "### CÂU HỎI NÀY CÓ Ý NGHĨA GÌ?\n",
    "### <ul> Sẽ mang chọn được phim hay mà xem <br> <br>Nhà làm phim sẽ biết những thứ gì họ cần để thu hút người xem ngoài kich bản hay</ul>\n"
   ]
  },
  {
   "cell_type": "markdown",
   "metadata": {},
   "source": [
    "### QUY TRÌNH THỰC HIỆN\n",
    "<h3> <ul>\n",
    "        Crawl dữ liệu từ web <br><br>\n",
    "        Khám phá dữ liệu <br><br>\n",
    "        Tiền xử lý dữ liệu <br><br>\n",
    "        Chọn mô hình cho bài toán <br><br>\n",
    "        Khó khăn, thuận lợi, bài học và hướng phát triển   <br><br>\n",
    "        Tài liệu kham khảo \n",
    "</ul></h3>\n"
   ]
  },
  {
   "cell_type": "markdown",
   "metadata": {},
   "source": [
    "### CÁC THƯ VIỆN SỬ DỤNG"
   ]
  },
  {
   "cell_type": "code",
   "execution_count": 1,
   "metadata": {},
   "outputs": [
    {
     "name": "stdout",
     "output_type": "stream",
     "text": [
      "Requirement already satisfied: missingno in /opt/conda/lib/python3.7/site-packages (0.4.2)\n",
      "Requirement already satisfied: scipy in /opt/conda/lib/python3.7/site-packages (from missingno) (1.4.1)\n",
      "Requirement already satisfied: numpy in /opt/conda/lib/python3.7/site-packages (from missingno) (1.18.5)\n",
      "Requirement already satisfied: seaborn in /opt/conda/lib/python3.7/site-packages (from missingno) (0.10.0)\n",
      "Requirement already satisfied: matplotlib in /opt/conda/lib/python3.7/site-packages (from missingno) (3.2.1)\n",
      "Requirement already satisfied: pyparsing!=2.0.4,!=2.1.2,!=2.1.6,>=2.0.1 in /opt/conda/lib/python3.7/site-packages (from matplotlib->missingno) (2.4.7)\n",
      "Requirement already satisfied: cycler>=0.10 in /opt/conda/lib/python3.7/site-packages (from matplotlib->missingno) (0.10.0)\n",
      "Requirement already satisfied: numpy in /opt/conda/lib/python3.7/site-packages (from missingno) (1.18.5)\n",
      "Requirement already satisfied: python-dateutil>=2.1 in /opt/conda/lib/python3.7/site-packages (from matplotlib->missingno) (2.8.1)\n",
      "Requirement already satisfied: kiwisolver>=1.0.1 in /opt/conda/lib/python3.7/site-packages (from matplotlib->missingno) (1.2.0)\n",
      "Requirement already satisfied: six in /opt/conda/lib/python3.7/site-packages (from cycler>=0.10->matplotlib->missingno) (1.14.0)\n",
      "Requirement already satisfied: six in /opt/conda/lib/python3.7/site-packages (from cycler>=0.10->matplotlib->missingno) (1.14.0)\n",
      "Requirement already satisfied: numpy in /opt/conda/lib/python3.7/site-packages (from missingno) (1.18.5)\n",
      "Requirement already satisfied: scipy in /opt/conda/lib/python3.7/site-packages (from missingno) (1.4.1)\n",
      "Requirement already satisfied: numpy in /opt/conda/lib/python3.7/site-packages (from missingno) (1.18.5)\n",
      "Requirement already satisfied: pandas>=0.22.0 in /opt/conda/lib/python3.7/site-packages (from seaborn->missingno) (1.1.5)\n",
      "Requirement already satisfied: matplotlib in /opt/conda/lib/python3.7/site-packages (from missingno) (3.2.1)\n",
      "Requirement already satisfied: numpy in /opt/conda/lib/python3.7/site-packages (from missingno) (1.18.5)\n",
      "Requirement already satisfied: python-dateutil>=2.1 in /opt/conda/lib/python3.7/site-packages (from matplotlib->missingno) (2.8.1)\n",
      "Requirement already satisfied: pytz>=2017.2 in /opt/conda/lib/python3.7/site-packages (from pandas>=0.22.0->seaborn->missingno) (2019.3)\n",
      "\u001b[33mWARNING: You are using pip version 20.3.1; however, version 20.3.3 is available.\n",
      "You should consider upgrading via the '/opt/conda/bin/python3.7 -m pip install --upgrade pip' command.\u001b[0m\n"
     ]
    }
   ],
   "source": [
    "# cài đặt thư viện missingno để visuallize missing value các cột\n",
    "!pip install missingno"
   ]
  },
  {
   "cell_type": "code",
   "execution_count": 1,
   "metadata": {},
   "outputs": [],
   "source": [
    "import requests\n",
    "from bs4 import BeautifulSoup\n",
    "import pandas as pd\n",
    "import missingno as msno \n",
    "import numpy as np\n",
    "import datetime as dt \n",
    "import time\n",
    "import matplotlib.pyplot as plt\n",
    "import re\n",
    "\n",
    "from sklearn.model_selection import train_test_split\n",
    "from sklearn.preprocessing import OneHotEncoder, StandardScaler\n",
    "from sklearn.impute import SimpleImputer\n",
    "from sklearn.base import BaseEstimator, TransformerMixin\n",
    "from sklearn.pipeline import Pipeline, make_pipeline\n",
    "from sklearn.compose import ColumnTransformer, make_column_transformer\n",
    "from sklearn.neural_network import MLPClassifier\n",
    "from sklearn.preprocessing import KBinsDiscretizer\n",
    "from sklearn import set_config\n",
    "set_config(display='diagram') # Để trực quan hóa pipeline"
   ]
  },
  {
   "cell_type": "markdown",
   "metadata": {},
   "source": [
    "### I. CRAWl DỮ LIỆU TỪ WEBSITE"
   ]
  },
  {
   "cell_type": "markdown",
   "metadata": {},
   "source": [
    "<ul> Dữ liệu đánh giá phim nhóm lấy từ website  <a href=\"https://www.imdb.com\"> <b>IMDB</b></a>, đây là một website đánh giá và review phim khá uy tín mà nhóm đã tìm hiểu được. Trong hầu hết website phim thì luôn đề cập điểm imdb (là cái điểm cạnh ngôi sao mà những bộ phim hay để), để bước tiếp thì nhóm sẽ nói sơ về điểm imdb <b>(Internet Movie Database) </b>  là một thư viện điện ảnh cung cấp nhiều chủ đề như phim, đạo diễn, diễn viên, phim và nhiều loại hình giải trí. Nổi bậc hơn là nơi đánh giá các bộ phim trên thang điểm 10 với các tiêu chí: kịch bản, diễn xuất, bối cảnh, hiệu ứng kỹ xảo và kỹ thuât quy phim. Điểm này được đánh giá bởi đông đảo những người xem nên độ tin cậy cũng khá ổn.</ul>"
   ]
  },
  {
   "cell_type": "markdown",
   "metadata": {},
   "source": [
    "<ul>Một bộ phim gồm nhiều thông tin, nhưng do mục tiêu nên nhóm chỉ lấy tên phim, xếp hạng của phim, thể loại, đạo diễn và các diễn viên có tiếng. Nhận thấy có 2 cái xếp hạng, 1 là IMDB với 1 cái là metascore, nhóm chọn IMDB </ul>"
   ]
  },
  {
   "cell_type": "markdown",
   "metadata": {},
   "source": [
    "![Image of Yaktocat](https://scontent.fhan4-1.fna.fbcdn.net/v/t1.15752-9/135584979_1159547281146246_6991992338298078328_n.jpg?_nc_cat=108&ccb=2&_nc_sid=ae9488&_nc_ohc=M0cf_xn1D_sAX8B4IzV&_nc_ht=scontent.fhan4-1.fna&oh=2f6e05a73d2232473e5ed90afa97cef4&oe=6020D28A)"
   ]
  },
  {
   "cell_type": "markdown",
   "metadata": {},
   "source": [
    "<ul>\n",
    "    <h3>Lấy dữ liệu bộ phim trong hai năm gần đây </h3><br>\n",
    "    <ul>\n",
    "        Trong phạm vi giới hạn của nhóm, nhóm chỉ lấy vài thông tin như là tên movie, thời gian chiếu, thể loại, tên đạo diễn và ngôi sao tham dự và hạng\n",
    "    </ul>\n",
    "</ul>\n",
    "\n"
   ]
  },
  {
   "cell_type": "markdown",
   "metadata": {},
   "source": [
    "<h3><ul>Năm 2019</ul></h3>"
   ]
  },
  {
   "cell_type": "code",
   "execution_count": 150,
   "metadata": {},
   "outputs": [
    {
     "name": "stdout",
     "output_type": "stream",
     "text": [
      "1\n",
      "51\n",
      "101\n",
      "151\n",
      "201\n",
      "251\n",
      "301\n",
      "351\n",
      "401\n",
      "451\n",
      "501\n"
     ]
    },
    {
     "ename": "KeyboardInterrupt",
     "evalue": "",
     "output_type": "error",
     "traceback": [
      "\u001b[0;31m---------------------------------------------------------------------------\u001b[0m",
      "\u001b[0;31mKeyboardInterrupt\u001b[0m                         Traceback (most recent call last)",
      "\u001b[0;32m<ipython-input-150-f8dc288b8570>\u001b[0m in \u001b[0;36m<module>\u001b[0;34m\u001b[0m\n\u001b[1;32m      6\u001b[0m     \u001b[0mprint\u001b[0m\u001b[0;34m(\u001b[0m\u001b[0mpage\u001b[0m\u001b[0;34m)\u001b[0m\u001b[0;34m\u001b[0m\u001b[0;34m\u001b[0m\u001b[0m\n\u001b[1;32m      7\u001b[0m     \u001b[0murl\u001b[0m \u001b[0;34m=\u001b[0m \u001b[0;34mf'https://www.imdb.com/search/title/?title_type=feature&year=2019-01-01,2019-12-31&start={page}&ref_=adv_nxt'\u001b[0m\u001b[0;34m\u001b[0m\u001b[0;34m\u001b[0m\u001b[0m\n\u001b[0;32m----> 8\u001b[0;31m     \u001b[0mhtml_text\u001b[0m \u001b[0;34m=\u001b[0m \u001b[0mrequests\u001b[0m\u001b[0;34m.\u001b[0m\u001b[0mget\u001b[0m\u001b[0;34m(\u001b[0m\u001b[0murl\u001b[0m\u001b[0;34m)\u001b[0m\u001b[0;34m.\u001b[0m\u001b[0mtext\u001b[0m\u001b[0;34m\u001b[0m\u001b[0;34m\u001b[0m\u001b[0m\n\u001b[0m\u001b[1;32m      9\u001b[0m     \u001b[0mtree\u001b[0m \u001b[0;34m=\u001b[0m \u001b[0mBeautifulSoup\u001b[0m\u001b[0;34m(\u001b[0m\u001b[0mhtml_text\u001b[0m\u001b[0;34m,\u001b[0m \u001b[0;34m'html.parser'\u001b[0m\u001b[0;34m)\u001b[0m\u001b[0;34m\u001b[0m\u001b[0;34m\u001b[0m\u001b[0m\n\u001b[1;32m     10\u001b[0m     \u001b[0mmovies\u001b[0m \u001b[0;34m=\u001b[0m \u001b[0mtree\u001b[0m\u001b[0;34m.\u001b[0m\u001b[0mfind_all\u001b[0m\u001b[0;34m(\u001b[0m\u001b[0;34m'div'\u001b[0m\u001b[0;34m,\u001b[0m \u001b[0;34m{\u001b[0m\u001b[0;34m'class'\u001b[0m\u001b[0;34m:\u001b[0m \u001b[0;34m'lister-item-content'\u001b[0m\u001b[0;34m}\u001b[0m\u001b[0;34m)\u001b[0m\u001b[0;34m\u001b[0m\u001b[0;34m\u001b[0m\u001b[0m\n",
      "\u001b[0;32m/opt/conda/lib/python3.7/site-packages/requests/api.py\u001b[0m in \u001b[0;36mget\u001b[0;34m(url, params, **kwargs)\u001b[0m\n\u001b[1;32m     74\u001b[0m \u001b[0;34m\u001b[0m\u001b[0m\n\u001b[1;32m     75\u001b[0m     \u001b[0mkwargs\u001b[0m\u001b[0;34m.\u001b[0m\u001b[0msetdefault\u001b[0m\u001b[0;34m(\u001b[0m\u001b[0;34m'allow_redirects'\u001b[0m\u001b[0;34m,\u001b[0m \u001b[0;32mTrue\u001b[0m\u001b[0;34m)\u001b[0m\u001b[0;34m\u001b[0m\u001b[0;34m\u001b[0m\u001b[0m\n\u001b[0;32m---> 76\u001b[0;31m     \u001b[0;32mreturn\u001b[0m \u001b[0mrequest\u001b[0m\u001b[0;34m(\u001b[0m\u001b[0;34m'get'\u001b[0m\u001b[0;34m,\u001b[0m \u001b[0murl\u001b[0m\u001b[0;34m,\u001b[0m \u001b[0mparams\u001b[0m\u001b[0;34m=\u001b[0m\u001b[0mparams\u001b[0m\u001b[0;34m,\u001b[0m \u001b[0;34m**\u001b[0m\u001b[0mkwargs\u001b[0m\u001b[0;34m)\u001b[0m\u001b[0;34m\u001b[0m\u001b[0;34m\u001b[0m\u001b[0m\n\u001b[0m\u001b[1;32m     77\u001b[0m \u001b[0;34m\u001b[0m\u001b[0m\n\u001b[1;32m     78\u001b[0m \u001b[0;34m\u001b[0m\u001b[0m\n",
      "\u001b[0;32m/opt/conda/lib/python3.7/site-packages/requests/api.py\u001b[0m in \u001b[0;36mrequest\u001b[0;34m(method, url, **kwargs)\u001b[0m\n\u001b[1;32m     59\u001b[0m     \u001b[0;31m# cases, and look like a memory leak in others.\u001b[0m\u001b[0;34m\u001b[0m\u001b[0;34m\u001b[0m\u001b[0;34m\u001b[0m\u001b[0m\n\u001b[1;32m     60\u001b[0m     \u001b[0;32mwith\u001b[0m \u001b[0msessions\u001b[0m\u001b[0;34m.\u001b[0m\u001b[0mSession\u001b[0m\u001b[0;34m(\u001b[0m\u001b[0;34m)\u001b[0m \u001b[0;32mas\u001b[0m \u001b[0msession\u001b[0m\u001b[0;34m:\u001b[0m\u001b[0;34m\u001b[0m\u001b[0;34m\u001b[0m\u001b[0m\n\u001b[0;32m---> 61\u001b[0;31m         \u001b[0;32mreturn\u001b[0m \u001b[0msession\u001b[0m\u001b[0;34m.\u001b[0m\u001b[0mrequest\u001b[0m\u001b[0;34m(\u001b[0m\u001b[0mmethod\u001b[0m\u001b[0;34m=\u001b[0m\u001b[0mmethod\u001b[0m\u001b[0;34m,\u001b[0m \u001b[0murl\u001b[0m\u001b[0;34m=\u001b[0m\u001b[0murl\u001b[0m\u001b[0;34m,\u001b[0m \u001b[0;34m**\u001b[0m\u001b[0mkwargs\u001b[0m\u001b[0;34m)\u001b[0m\u001b[0;34m\u001b[0m\u001b[0;34m\u001b[0m\u001b[0m\n\u001b[0m\u001b[1;32m     62\u001b[0m \u001b[0;34m\u001b[0m\u001b[0m\n\u001b[1;32m     63\u001b[0m \u001b[0;34m\u001b[0m\u001b[0m\n",
      "\u001b[0;32m/opt/conda/lib/python3.7/site-packages/requests/sessions.py\u001b[0m in \u001b[0;36mrequest\u001b[0;34m(self, method, url, params, data, headers, cookies, files, auth, timeout, allow_redirects, proxies, hooks, stream, verify, cert, json)\u001b[0m\n\u001b[1;32m    528\u001b[0m         }\n\u001b[1;32m    529\u001b[0m         \u001b[0msend_kwargs\u001b[0m\u001b[0;34m.\u001b[0m\u001b[0mupdate\u001b[0m\u001b[0;34m(\u001b[0m\u001b[0msettings\u001b[0m\u001b[0;34m)\u001b[0m\u001b[0;34m\u001b[0m\u001b[0;34m\u001b[0m\u001b[0m\n\u001b[0;32m--> 530\u001b[0;31m         \u001b[0mresp\u001b[0m \u001b[0;34m=\u001b[0m \u001b[0mself\u001b[0m\u001b[0;34m.\u001b[0m\u001b[0msend\u001b[0m\u001b[0;34m(\u001b[0m\u001b[0mprep\u001b[0m\u001b[0;34m,\u001b[0m \u001b[0;34m**\u001b[0m\u001b[0msend_kwargs\u001b[0m\u001b[0;34m)\u001b[0m\u001b[0;34m\u001b[0m\u001b[0;34m\u001b[0m\u001b[0m\n\u001b[0m\u001b[1;32m    531\u001b[0m \u001b[0;34m\u001b[0m\u001b[0m\n\u001b[1;32m    532\u001b[0m         \u001b[0;32mreturn\u001b[0m \u001b[0mresp\u001b[0m\u001b[0;34m\u001b[0m\u001b[0;34m\u001b[0m\u001b[0m\n",
      "\u001b[0;32m/opt/conda/lib/python3.7/site-packages/requests/sessions.py\u001b[0m in \u001b[0;36msend\u001b[0;34m(self, request, **kwargs)\u001b[0m\n\u001b[1;32m    641\u001b[0m \u001b[0;34m\u001b[0m\u001b[0m\n\u001b[1;32m    642\u001b[0m         \u001b[0;31m# Send the request\u001b[0m\u001b[0;34m\u001b[0m\u001b[0;34m\u001b[0m\u001b[0;34m\u001b[0m\u001b[0m\n\u001b[0;32m--> 643\u001b[0;31m         \u001b[0mr\u001b[0m \u001b[0;34m=\u001b[0m \u001b[0madapter\u001b[0m\u001b[0;34m.\u001b[0m\u001b[0msend\u001b[0m\u001b[0;34m(\u001b[0m\u001b[0mrequest\u001b[0m\u001b[0;34m,\u001b[0m \u001b[0;34m**\u001b[0m\u001b[0mkwargs\u001b[0m\u001b[0;34m)\u001b[0m\u001b[0;34m\u001b[0m\u001b[0;34m\u001b[0m\u001b[0m\n\u001b[0m\u001b[1;32m    644\u001b[0m \u001b[0;34m\u001b[0m\u001b[0m\n\u001b[1;32m    645\u001b[0m         \u001b[0;31m# Total elapsed time of the request (approximately)\u001b[0m\u001b[0;34m\u001b[0m\u001b[0;34m\u001b[0m\u001b[0;34m\u001b[0m\u001b[0m\n",
      "\u001b[0;32m/opt/conda/lib/python3.7/site-packages/requests/adapters.py\u001b[0m in \u001b[0;36msend\u001b[0;34m(self, request, stream, timeout, verify, cert, proxies)\u001b[0m\n\u001b[1;32m    447\u001b[0m                     \u001b[0mdecode_content\u001b[0m\u001b[0;34m=\u001b[0m\u001b[0;32mFalse\u001b[0m\u001b[0;34m,\u001b[0m\u001b[0;34m\u001b[0m\u001b[0;34m\u001b[0m\u001b[0m\n\u001b[1;32m    448\u001b[0m                     \u001b[0mretries\u001b[0m\u001b[0;34m=\u001b[0m\u001b[0mself\u001b[0m\u001b[0;34m.\u001b[0m\u001b[0mmax_retries\u001b[0m\u001b[0;34m,\u001b[0m\u001b[0;34m\u001b[0m\u001b[0;34m\u001b[0m\u001b[0m\n\u001b[0;32m--> 449\u001b[0;31m                     \u001b[0mtimeout\u001b[0m\u001b[0;34m=\u001b[0m\u001b[0mtimeout\u001b[0m\u001b[0;34m\u001b[0m\u001b[0;34m\u001b[0m\u001b[0m\n\u001b[0m\u001b[1;32m    450\u001b[0m                 )\n\u001b[1;32m    451\u001b[0m \u001b[0;34m\u001b[0m\u001b[0m\n",
      "\u001b[0;32m/opt/conda/lib/python3.7/site-packages/urllib3/connectionpool.py\u001b[0m in \u001b[0;36murlopen\u001b[0;34m(self, method, url, body, headers, retries, redirect, assert_same_host, timeout, pool_timeout, release_conn, chunked, body_pos, **response_kw)\u001b[0m\n\u001b[1;32m    675\u001b[0m                 \u001b[0mbody\u001b[0m\u001b[0;34m=\u001b[0m\u001b[0mbody\u001b[0m\u001b[0;34m,\u001b[0m\u001b[0;34m\u001b[0m\u001b[0;34m\u001b[0m\u001b[0m\n\u001b[1;32m    676\u001b[0m                 \u001b[0mheaders\u001b[0m\u001b[0;34m=\u001b[0m\u001b[0mheaders\u001b[0m\u001b[0;34m,\u001b[0m\u001b[0;34m\u001b[0m\u001b[0;34m\u001b[0m\u001b[0m\n\u001b[0;32m--> 677\u001b[0;31m                 \u001b[0mchunked\u001b[0m\u001b[0;34m=\u001b[0m\u001b[0mchunked\u001b[0m\u001b[0;34m,\u001b[0m\u001b[0;34m\u001b[0m\u001b[0;34m\u001b[0m\u001b[0m\n\u001b[0m\u001b[1;32m    678\u001b[0m             )\n\u001b[1;32m    679\u001b[0m \u001b[0;34m\u001b[0m\u001b[0m\n",
      "\u001b[0;32m/opt/conda/lib/python3.7/site-packages/urllib3/connectionpool.py\u001b[0m in \u001b[0;36m_make_request\u001b[0;34m(self, conn, method, url, timeout, chunked, **httplib_request_kw)\u001b[0m\n\u001b[1;32m    379\u001b[0m         \u001b[0;31m# Trigger any extra validation we need to do.\u001b[0m\u001b[0;34m\u001b[0m\u001b[0;34m\u001b[0m\u001b[0;34m\u001b[0m\u001b[0m\n\u001b[1;32m    380\u001b[0m         \u001b[0;32mtry\u001b[0m\u001b[0;34m:\u001b[0m\u001b[0;34m\u001b[0m\u001b[0;34m\u001b[0m\u001b[0m\n\u001b[0;32m--> 381\u001b[0;31m             \u001b[0mself\u001b[0m\u001b[0;34m.\u001b[0m\u001b[0m_validate_conn\u001b[0m\u001b[0;34m(\u001b[0m\u001b[0mconn\u001b[0m\u001b[0;34m)\u001b[0m\u001b[0;34m\u001b[0m\u001b[0;34m\u001b[0m\u001b[0m\n\u001b[0m\u001b[1;32m    382\u001b[0m         \u001b[0;32mexcept\u001b[0m \u001b[0;34m(\u001b[0m\u001b[0mSocketTimeout\u001b[0m\u001b[0;34m,\u001b[0m \u001b[0mBaseSSLError\u001b[0m\u001b[0;34m)\u001b[0m \u001b[0;32mas\u001b[0m \u001b[0me\u001b[0m\u001b[0;34m:\u001b[0m\u001b[0;34m\u001b[0m\u001b[0;34m\u001b[0m\u001b[0m\n\u001b[1;32m    383\u001b[0m             \u001b[0;31m# Py2 raises this as a BaseSSLError, Py3 raises it as socket timeout.\u001b[0m\u001b[0;34m\u001b[0m\u001b[0;34m\u001b[0m\u001b[0;34m\u001b[0m\u001b[0m\n",
      "\u001b[0;32m/opt/conda/lib/python3.7/site-packages/urllib3/connectionpool.py\u001b[0m in \u001b[0;36m_validate_conn\u001b[0;34m(self, conn)\u001b[0m\n\u001b[1;32m    974\u001b[0m         \u001b[0;31m# Force connect early to allow us to validate the connection.\u001b[0m\u001b[0;34m\u001b[0m\u001b[0;34m\u001b[0m\u001b[0;34m\u001b[0m\u001b[0m\n\u001b[1;32m    975\u001b[0m         \u001b[0;32mif\u001b[0m \u001b[0;32mnot\u001b[0m \u001b[0mgetattr\u001b[0m\u001b[0;34m(\u001b[0m\u001b[0mconn\u001b[0m\u001b[0;34m,\u001b[0m \u001b[0;34m\"sock\"\u001b[0m\u001b[0;34m,\u001b[0m \u001b[0;32mNone\u001b[0m\u001b[0;34m)\u001b[0m\u001b[0;34m:\u001b[0m  \u001b[0;31m# AppEngine might not have  `.sock`\u001b[0m\u001b[0;34m\u001b[0m\u001b[0;34m\u001b[0m\u001b[0m\n\u001b[0;32m--> 976\u001b[0;31m             \u001b[0mconn\u001b[0m\u001b[0;34m.\u001b[0m\u001b[0mconnect\u001b[0m\u001b[0;34m(\u001b[0m\u001b[0;34m)\u001b[0m\u001b[0;34m\u001b[0m\u001b[0;34m\u001b[0m\u001b[0m\n\u001b[0m\u001b[1;32m    977\u001b[0m \u001b[0;34m\u001b[0m\u001b[0m\n\u001b[1;32m    978\u001b[0m         \u001b[0;32mif\u001b[0m \u001b[0;32mnot\u001b[0m \u001b[0mconn\u001b[0m\u001b[0;34m.\u001b[0m\u001b[0mis_verified\u001b[0m\u001b[0;34m:\u001b[0m\u001b[0;34m\u001b[0m\u001b[0;34m\u001b[0m\u001b[0m\n",
      "\u001b[0;32m/opt/conda/lib/python3.7/site-packages/urllib3/connection.py\u001b[0m in \u001b[0;36mconnect\u001b[0;34m(self)\u001b[0m\n\u001b[1;32m    306\u001b[0m     \u001b[0;32mdef\u001b[0m \u001b[0mconnect\u001b[0m\u001b[0;34m(\u001b[0m\u001b[0mself\u001b[0m\u001b[0;34m)\u001b[0m\u001b[0;34m:\u001b[0m\u001b[0;34m\u001b[0m\u001b[0;34m\u001b[0m\u001b[0m\n\u001b[1;32m    307\u001b[0m         \u001b[0;31m# Add certificate verification\u001b[0m\u001b[0;34m\u001b[0m\u001b[0;34m\u001b[0m\u001b[0;34m\u001b[0m\u001b[0m\n\u001b[0;32m--> 308\u001b[0;31m         \u001b[0mconn\u001b[0m \u001b[0;34m=\u001b[0m \u001b[0mself\u001b[0m\u001b[0;34m.\u001b[0m\u001b[0m_new_conn\u001b[0m\u001b[0;34m(\u001b[0m\u001b[0;34m)\u001b[0m\u001b[0;34m\u001b[0m\u001b[0;34m\u001b[0m\u001b[0m\n\u001b[0m\u001b[1;32m    309\u001b[0m         \u001b[0mhostname\u001b[0m \u001b[0;34m=\u001b[0m \u001b[0mself\u001b[0m\u001b[0;34m.\u001b[0m\u001b[0mhost\u001b[0m\u001b[0;34m\u001b[0m\u001b[0;34m\u001b[0m\u001b[0m\n\u001b[1;32m    310\u001b[0m \u001b[0;34m\u001b[0m\u001b[0m\n",
      "\u001b[0;32m/opt/conda/lib/python3.7/site-packages/urllib3/connection.py\u001b[0m in \u001b[0;36m_new_conn\u001b[0;34m(self)\u001b[0m\n\u001b[1;32m    158\u001b[0m         \u001b[0;32mtry\u001b[0m\u001b[0;34m:\u001b[0m\u001b[0;34m\u001b[0m\u001b[0;34m\u001b[0m\u001b[0m\n\u001b[1;32m    159\u001b[0m             conn = connection.create_connection(\n\u001b[0;32m--> 160\u001b[0;31m                 \u001b[0;34m(\u001b[0m\u001b[0mself\u001b[0m\u001b[0;34m.\u001b[0m\u001b[0m_dns_host\u001b[0m\u001b[0;34m,\u001b[0m \u001b[0mself\u001b[0m\u001b[0;34m.\u001b[0m\u001b[0mport\u001b[0m\u001b[0;34m)\u001b[0m\u001b[0;34m,\u001b[0m \u001b[0mself\u001b[0m\u001b[0;34m.\u001b[0m\u001b[0mtimeout\u001b[0m\u001b[0;34m,\u001b[0m \u001b[0;34m**\u001b[0m\u001b[0mextra_kw\u001b[0m\u001b[0;34m\u001b[0m\u001b[0;34m\u001b[0m\u001b[0m\n\u001b[0m\u001b[1;32m    161\u001b[0m             )\n\u001b[1;32m    162\u001b[0m \u001b[0;34m\u001b[0m\u001b[0m\n",
      "\u001b[0;32m/opt/conda/lib/python3.7/site-packages/urllib3/util/connection.py\u001b[0m in \u001b[0;36mcreate_connection\u001b[0;34m(address, timeout, source_address, socket_options)\u001b[0m\n\u001b[1;32m     59\u001b[0m     \u001b[0mfamily\u001b[0m \u001b[0;34m=\u001b[0m \u001b[0mallowed_gai_family\u001b[0m\u001b[0;34m(\u001b[0m\u001b[0;34m)\u001b[0m\u001b[0;34m\u001b[0m\u001b[0;34m\u001b[0m\u001b[0m\n\u001b[1;32m     60\u001b[0m \u001b[0;34m\u001b[0m\u001b[0m\n\u001b[0;32m---> 61\u001b[0;31m     \u001b[0;32mfor\u001b[0m \u001b[0mres\u001b[0m \u001b[0;32min\u001b[0m \u001b[0msocket\u001b[0m\u001b[0;34m.\u001b[0m\u001b[0mgetaddrinfo\u001b[0m\u001b[0;34m(\u001b[0m\u001b[0mhost\u001b[0m\u001b[0;34m,\u001b[0m \u001b[0mport\u001b[0m\u001b[0;34m,\u001b[0m \u001b[0mfamily\u001b[0m\u001b[0;34m,\u001b[0m \u001b[0msocket\u001b[0m\u001b[0;34m.\u001b[0m\u001b[0mSOCK_STREAM\u001b[0m\u001b[0;34m)\u001b[0m\u001b[0;34m:\u001b[0m\u001b[0;34m\u001b[0m\u001b[0;34m\u001b[0m\u001b[0m\n\u001b[0m\u001b[1;32m     62\u001b[0m         \u001b[0maf\u001b[0m\u001b[0;34m,\u001b[0m \u001b[0msocktype\u001b[0m\u001b[0;34m,\u001b[0m \u001b[0mproto\u001b[0m\u001b[0;34m,\u001b[0m \u001b[0mcanonname\u001b[0m\u001b[0;34m,\u001b[0m \u001b[0msa\u001b[0m \u001b[0;34m=\u001b[0m \u001b[0mres\u001b[0m\u001b[0;34m\u001b[0m\u001b[0;34m\u001b[0m\u001b[0m\n\u001b[1;32m     63\u001b[0m         \u001b[0msock\u001b[0m \u001b[0;34m=\u001b[0m \u001b[0;32mNone\u001b[0m\u001b[0;34m\u001b[0m\u001b[0;34m\u001b[0m\u001b[0m\n",
      "\u001b[0;32m/opt/conda/lib/python3.7/socket.py\u001b[0m in \u001b[0;36mgetaddrinfo\u001b[0;34m(host, port, family, type, proto, flags)\u001b[0m\n\u001b[1;32m    750\u001b[0m     \u001b[0;31m# and socket type values to enum constants.\u001b[0m\u001b[0;34m\u001b[0m\u001b[0;34m\u001b[0m\u001b[0;34m\u001b[0m\u001b[0m\n\u001b[1;32m    751\u001b[0m     \u001b[0maddrlist\u001b[0m \u001b[0;34m=\u001b[0m \u001b[0;34m[\u001b[0m\u001b[0;34m]\u001b[0m\u001b[0;34m\u001b[0m\u001b[0;34m\u001b[0m\u001b[0m\n\u001b[0;32m--> 752\u001b[0;31m     \u001b[0;32mfor\u001b[0m \u001b[0mres\u001b[0m \u001b[0;32min\u001b[0m \u001b[0m_socket\u001b[0m\u001b[0;34m.\u001b[0m\u001b[0mgetaddrinfo\u001b[0m\u001b[0;34m(\u001b[0m\u001b[0mhost\u001b[0m\u001b[0;34m,\u001b[0m \u001b[0mport\u001b[0m\u001b[0;34m,\u001b[0m \u001b[0mfamily\u001b[0m\u001b[0;34m,\u001b[0m \u001b[0mtype\u001b[0m\u001b[0;34m,\u001b[0m \u001b[0mproto\u001b[0m\u001b[0;34m,\u001b[0m \u001b[0mflags\u001b[0m\u001b[0;34m)\u001b[0m\u001b[0;34m:\u001b[0m\u001b[0;34m\u001b[0m\u001b[0;34m\u001b[0m\u001b[0m\n\u001b[0m\u001b[1;32m    753\u001b[0m         \u001b[0maf\u001b[0m\u001b[0;34m,\u001b[0m \u001b[0msocktype\u001b[0m\u001b[0;34m,\u001b[0m \u001b[0mproto\u001b[0m\u001b[0;34m,\u001b[0m \u001b[0mcanonname\u001b[0m\u001b[0;34m,\u001b[0m \u001b[0msa\u001b[0m \u001b[0;34m=\u001b[0m \u001b[0mres\u001b[0m\u001b[0;34m\u001b[0m\u001b[0;34m\u001b[0m\u001b[0m\n\u001b[1;32m    754\u001b[0m         addrlist.append((_intenum_converter(af, AddressFamily),\n",
      "\u001b[0;31mKeyboardInterrupt\u001b[0m: "
     ]
    }
   ],
   "source": [
    "df = pd.DataFrame(columns=['Title','Runtime','Genre','Rating','Directors','Stars'])\n",
    "for i in range(200):\n",
    "\n",
    "    time.sleep(0.01)\n",
    "    page = 1+50*i\n",
    "    print(page)\n",
    "    url = f'https://www.imdb.com/search/title/?title_type=feature&year=2019-01-01,2019-12-31&start={page}&ref_=adv_nxt'\n",
    "    html_text = requests.get(url).text\n",
    "    tree = BeautifulSoup(html_text, 'html.parser')\n",
    "    movies = tree.find_all('div', {'class': 'lister-item-content'})\n",
    "    \n",
    "    for movie in movies[:]:\n",
    "        rating = movie.find('strong')#.text\n",
    "        title = movie.find('h3',{'class':'lister-item-header'}).text.replace('\\n',' ')#[4:-2]\n",
    "        genre  = movie.find('p', {'class':'text-muted'})\\\n",
    "                        .find('span', {'class':'genre'})\n",
    "        \n",
    "        directors_and_stars_p = movie.find('p',{'class':''})\n",
    "        runtime = movie.find('span', {'class':'runtime'})\n",
    "        if rating != None : \n",
    "            rating = rating.text\n",
    "            if genre: genre = genre.text.strip()\n",
    "            if runtime: runtime = runtime.text.split(' ')[0].replace(',','')\n",
    "                \n",
    "            directors = re.search(r'(Directors|Director):([.\\s\\S]+)\\|', directors_and_stars_p.text)\n",
    "            stars = re.search(r'(Stars|Star):([.\\s\\S]+)', directors_and_stars_p.text)\n",
    "            if (directors): directors = ','.join(directors[2].strip().split(', \\n'))\n",
    "            if (stars): stars = ','.join(stars[2].strip().split(', \\n'))\n",
    "            df = df.append({'Title':title,'Runtime': runtime,'Genre':genre,'Rating':rating,'Directors':directors,'Stars':stars}, ignore_index = True)\n",
    "\n",
    "df.to_csv('movie2019.csv', index = False, encoding = 'utf-8')"
   ]
  },
  {
   "cell_type": "markdown",
   "metadata": {},
   "source": [
    "<h3><ul>Năm 2020</ul></h3>"
   ]
  },
  {
   "cell_type": "code",
   "execution_count": null,
   "metadata": {},
   "outputs": [],
   "source": [
    "def add_dict_value_other(s,dict_temp): \n",
    "    s=s[s.find('Director'):].replace('\\n','').replace('Votes','|Votes').split('|')\n",
    "    for item in s:\n",
    "        temp =item.strip().split(':')\n",
    "        if(temp[0]=='Director' or temp[0]=='Stars'):\n",
    "            dict_temp[temp[0]]=temp[1] "
   ]
  },
  {
   "cell_type": "code",
   "execution_count": null,
   "metadata": {},
   "outputs": [],
   "source": [
    "num_title= 1\n",
    "max_num =9881\n",
    "check_break=0\n",
    "action_movie=[]\n",
    "num_movies=0\n",
    "while(1):\n",
    "    if(num_title==1):\n",
    "        link_page=f'https://www.imdb.com/search/title/?title_type=feature&year=2020-01-01,2020-12-31&sort=year,desc'\n",
    "    else:\n",
    "        link_page = f'https://www.imdb.com/search/title/?title_type=feature&year=2020-01-01,2020-12-31&sort=year,desc&start={num_title}&ref_=adv_nxt'\n",
    "    #lấy nội dung lưu vào dict\n",
    "    html_text = requests.get(link_page).text\n",
    "    tree = BeautifulSoup(html_text, 'html.parser')\n",
    "    movies = tree.find_all('div',{'class':'lister-item mode-advanced'})\n",
    "    for movie in movies:\n",
    "        num_movies+=1\n",
    "        dict_temp_movie ={}\n",
    "        header=movie.find('h3',{'class':'lister-item-header'})\n",
    "        dict_temp_movie['Name']= header.a.text\n",
    "        text_muted =movie.find('p',{'class':'text-muted '})\n",
    "        try:\n",
    "            runtime=int(text_muted.find('span','runtime').text.split()[0])\n",
    "        except:\n",
    "            runtime=0\n",
    "        dict_temp_movie['Runtime']=runtime\n",
    "        try:\n",
    "            genre=text_muted.find('span','genre').text.strip().strip('\\n').strip(' ')#.split(', ')\n",
    "        except:\n",
    "            genre=None\n",
    "        dict_temp_movie['Genre']=genre\n",
    "        ratings_bar =movie.find('div',{'class':'ratings-bar'})\n",
    "        try:\n",
    "            IMDB_score = float(ratings_bar.find('div',{'class':'inline-block ratings-imdb-rating'})['data-value'])\n",
    "            dict_temp_movie['IMDB'] = IMDB_score\n",
    "            sort_num_votes_visible = movie.find('p','sort-num_votes-visible').text\n",
    "            add_dict_value_other(movie.text,dict_temp_movie)\n",
    "            action_movie.append(dict_temp_movie)\n",
    "        except:\n",
    "            pass\n",
    "    time.sleep(1)\n",
    "    if(num_movies>=max_num):\n",
    "        break\n",
    "    num_title+=50\n",
    "df = pd.DataFrame(action_movie)\n",
    "df.to_csv('movies2020.csv',index=False)"
   ]
  },
  {
   "cell_type": "markdown",
   "metadata": {},
   "source": [
    "## II.Khám phá dữ liệu (đủ để có thể xác định câu hỏi mà không làm mình hiểu quá sâu toàn bộ dữ liệu)\n",
    "<ul>Đọc hai file csv lên để gộp và xử lý</ul>"
   ]
  },
  {
   "cell_type": "code",
   "execution_count": 3,
   "metadata": {},
   "outputs": [],
   "source": [
    "df2020= pd.read_csv('movies2020.csv')\n",
    "df2019=pd.read_csv('movies2019.csv')\n",
    "df2020.rename(columns = {'Name':'Title','IMDB':'Rating','Director':'Directors'}, inplace = True)\n",
    "df=pd.concat([df2019,df2020],ignore_index=True)"
   ]
  },
  {
   "cell_type": "code",
   "execution_count": 4,
   "metadata": {},
   "outputs": [
    {
     "data": {
      "text/html": [
       "<div>\n",
       "<style scoped>\n",
       "    .dataframe tbody tr th:only-of-type {\n",
       "        vertical-align: middle;\n",
       "    }\n",
       "\n",
       "    .dataframe tbody tr th {\n",
       "        vertical-align: top;\n",
       "    }\n",
       "\n",
       "    .dataframe thead th {\n",
       "        text-align: right;\n",
       "    }\n",
       "</style>\n",
       "<table border=\"1\" class=\"dataframe\">\n",
       "  <thead>\n",
       "    <tr style=\"text-align: right;\">\n",
       "      <th></th>\n",
       "      <th>Title</th>\n",
       "      <th>Runtime</th>\n",
       "      <th>Genre</th>\n",
       "      <th>Rating</th>\n",
       "      <th>Directors</th>\n",
       "      <th>Stars</th>\n",
       "    </tr>\n",
       "  </thead>\n",
       "  <tbody>\n",
       "    <tr>\n",
       "      <th>0</th>\n",
       "      <td>1. The Gentlemen (2019)</td>\n",
       "      <td>113.0</td>\n",
       "      <td>Action, Comedy, Crime</td>\n",
       "      <td>7.8</td>\n",
       "      <td>Guy Ritchie</td>\n",
       "      <td>Matthew McConaughey,Charlie Hunnam,Michelle Do...</td>\n",
       "    </tr>\n",
       "    <tr>\n",
       "      <th>1</th>\n",
       "      <td>2. Knives Out (2019)</td>\n",
       "      <td>130.0</td>\n",
       "      <td>Comedy, Crime, Drama</td>\n",
       "      <td>7.9</td>\n",
       "      <td>Rian Johnson</td>\n",
       "      <td>Daniel Craig,Chris Evans,Ana de Armas,Jamie Le...</td>\n",
       "    </tr>\n",
       "    <tr>\n",
       "      <th>2</th>\n",
       "      <td>3. 1917 (2019)</td>\n",
       "      <td>119.0</td>\n",
       "      <td>Drama, Thriller, War</td>\n",
       "      <td>8.3</td>\n",
       "      <td>Sam Mendes</td>\n",
       "      <td>Dean-Charles Chapman,George MacKay,Daniel Mays...</td>\n",
       "    </tr>\n",
       "    <tr>\n",
       "      <th>3</th>\n",
       "      <td>4. Cats (2019)</td>\n",
       "      <td>110.0</td>\n",
       "      <td>Comedy, Drama, Family</td>\n",
       "      <td>2.8</td>\n",
       "      <td>Tom Hooper</td>\n",
       "      <td>James Corden,Judi Dench,Jason Derulo,Idris Elba</td>\n",
       "    </tr>\n",
       "    <tr>\n",
       "      <th>4</th>\n",
       "      <td>5. Gisaengchung (2019)</td>\n",
       "      <td>132.0</td>\n",
       "      <td>Comedy, Drama, Thriller</td>\n",
       "      <td>8.6</td>\n",
       "      <td>Bong Joon Ho</td>\n",
       "      <td>Song Kang-Ho,Lee Sun-kyun,Cho Yeo-jeong,Choi W...</td>\n",
       "    </tr>\n",
       "  </tbody>\n",
       "</table>\n",
       "</div>"
      ],
      "text/plain": [
       "                       Title  Runtime                    Genre  Rating  \\\n",
       "0   1. The Gentlemen (2019)     113.0    Action, Comedy, Crime     7.8   \n",
       "1      2. Knives Out (2019)     130.0     Comedy, Crime, Drama     7.9   \n",
       "2            3. 1917 (2019)     119.0     Drama, Thriller, War     8.3   \n",
       "3            4. Cats (2019)     110.0    Comedy, Drama, Family     2.8   \n",
       "4    5. Gisaengchung (2019)     132.0  Comedy, Drama, Thriller     8.6   \n",
       "\n",
       "      Directors                                              Stars  \n",
       "0   Guy Ritchie  Matthew McConaughey,Charlie Hunnam,Michelle Do...  \n",
       "1  Rian Johnson  Daniel Craig,Chris Evans,Ana de Armas,Jamie Le...  \n",
       "2    Sam Mendes  Dean-Charles Chapman,George MacKay,Daniel Mays...  \n",
       "3    Tom Hooper    James Corden,Judi Dench,Jason Derulo,Idris Elba  \n",
       "4  Bong Joon Ho  Song Kang-Ho,Lee Sun-kyun,Cho Yeo-jeong,Choi W...  "
      ]
     },
     "execution_count": 4,
     "metadata": {},
     "output_type": "execute_result"
    }
   ],
   "source": [
    "df.head()"
   ]
  },
  {
   "cell_type": "markdown",
   "metadata": {},
   "source": [
    "### Dữ liệu có bao nhiêu dòng và bao nhiêu cột?"
   ]
  },
  {
   "cell_type": "code",
   "execution_count": 5,
   "metadata": {},
   "outputs": [
    {
     "data": {
      "text/plain": [
       "(13312, 6)"
      ]
     },
     "execution_count": 5,
     "metadata": {},
     "output_type": "execute_result"
    }
   ],
   "source": [
    "df.shape"
   ]
  },
  {
   "cell_type": "markdown",
   "metadata": {},
   "source": [
    "### Mỗi dòng có ý nghĩa gì? Có vấn đề các dòng có ý nghĩa khác nhau không?"
   ]
  },
  {
   "cell_type": "markdown",
   "metadata": {},
   "source": [
    "Về quan sát cơ bản mỗi dòng chứa thông tin của một bộ phim đã được phát hành (bộ data chứa phim phát hành 2019, 2020 đăng tải trên IMDB)\n",
    "Có vẻ Không có gì bất thường"
   ]
  },
  {
   "cell_type": "markdown",
   "metadata": {},
   "source": [
    "Dữ liệu có các dòng bị lặp không?"
   ]
  },
  {
   "cell_type": "code",
   "execution_count": 6,
   "metadata": {},
   "outputs": [
    {
     "data": {
      "text/plain": [
       "0"
      ]
     },
     "execution_count": 6,
     "metadata": {},
     "output_type": "execute_result"
    }
   ],
   "source": [
    "df.index.duplicated().sum()"
   ]
  },
  {
   "cell_type": "markdown",
   "metadata": {},
   "source": [
    "### Mỗi cột có ý nghĩa gì?"
   ]
  },
  {
   "cell_type": "markdown",
   "metadata": {},
   "source": [
    "`Title`: Tên của bộ phim - string <br>\n",
    "`Runtime`: độ dài bộ phim (số phút) - float <br>\n",
    "`Genre`: Thể loại phim, một bộ phim có thể có nhiều thể loại - string <br>\n",
    "`Directors`: Đạo diễn bộ phim - string <br>\n",
    "`Stars`: Một số diễn viên nổi tiếng tham gia bộ phim - string <br>\n",
    "`Rating`: Đánh giá phim theo user - 0.0 đến 10.0 <br>\n"
   ]
  },
  {
   "cell_type": "markdown",
   "metadata": {},
   "source": [
    "Rating để chọn bộ phim hay để xem nên chọn giá trị là 1.0 và 0.0, 1.0 là những phim nên xem và rating >= 7.0"
   ]
  },
  {
   "cell_type": "code",
   "execution_count": 7,
   "metadata": {},
   "outputs": [
    {
     "data": {
      "text/plain": [
       "0    80.769231\n",
       "1    19.230769\n",
       "Name: Rating, dtype: float64"
      ]
     },
     "execution_count": 7,
     "metadata": {},
     "output_type": "execute_result"
    }
   ],
   "source": [
    "# Tỉ lệ các lớp trong cột output?\n",
    "df['Rating'] = (df['Rating']>7).astype(int)\n",
    "df['Rating'].value_counts(normalize=True) * 100\n"
   ]
  },
  {
   "cell_type": "markdown",
   "metadata": {},
   "source": [
    "Tỉ lệ 8/2 với lớp 0/1, hơi không đồng đều lắm nhưng mình cứ tiếp tục nếu có vấn đề gì mình sẽ quay lại sau"
   ]
  },
  {
   "cell_type": "markdown",
   "metadata": {},
   "source": [
    "## Đưa ra câu hỏi cần trả lời"
   ]
  },
  {
   "cell_type": "markdown",
   "metadata": {},
   "source": [
    " Câu hỏi cần trả lời là:\n",
    "\n",
    "Output - Có nên mua vé đi xem bộ phim này hay không (Nên đi xem nếu ouput là 1, không nên xem nếu output là 0)? - được tính từ input - các thông tin của bộ phim (Genres, Runtime, Directors, Stars) - theo công thức nào?\n",
    "\n",
    "Tạm thời ta sẽ để input là toàn bộ thông tin của hành khách, ta sẽ xác định cụ thể hơn ở bước tiền xử lý lúc sau.\n",
    "\n",
    "Việc tìm ra câu trả lời này giúp đưa ra quyết định có nên bỏ mua vé tiền và bỏ thời gian để xem bộ phim này hay không (có thể là quyết định sơ bộ, sau đó có thể tìm kiếm thêm thông tin khác về bộ phim trên internet sau đó mới quyết định chẳng  hạn)\n"
   ]
  },
  {
   "cell_type": "markdown",
   "metadata": {},
   "source": [
    "---"
   ]
  },
  {
   "cell_type": "markdown",
   "metadata": {},
   "source": [
    "## Khám phá dữ liệu (để biết cách tách các tập)\n"
   ]
  },
  {
   "cell_type": "code",
   "execution_count": 9,
   "metadata": {},
   "outputs": [
    {
     "data": {
      "text/plain": [
       "dtype('int64')"
      ]
     },
     "execution_count": 9,
     "metadata": {},
     "output_type": "execute_result"
    }
   ],
   "source": [
    "# Cột output hiện có kiểu dữ liệu gì?\n",
    "df['Rating'].dtype"
   ]
  },
  {
   "cell_type": "markdown",
   "metadata": {},
   "source": [
    "Hiện tại cột labels là float (0.0-10.0), lát sau sẽ chuyển về dạng 0/1"
   ]
  },
  {
   "cell_type": "code",
   "execution_count": 10,
   "metadata": {},
   "outputs": [
    {
     "data": {
      "text/plain": [
       "0"
      ]
     },
     "execution_count": 10,
     "metadata": {},
     "output_type": "execute_result"
    }
   ],
   "source": [
    "# Cột output có giá trị thiếu không?\n",
    "df['Rating'].isna().sum()"
   ]
  },
  {
   "cell_type": "code",
   "execution_count": 11,
   "metadata": {},
   "outputs": [
    {
     "data": {
      "text/plain": [
       "0    80.769231\n",
       "1    19.230769\n",
       "Name: Rating, dtype: float64"
      ]
     },
     "execution_count": 11,
     "metadata": {},
     "output_type": "execute_result"
    }
   ],
   "source": [
    "# Tỉ lệ các lớp trong cột output?\n",
    "df['Rating'].value_counts(normalize=True) * 100"
   ]
  },
  {
   "cell_type": "markdown",
   "metadata": {},
   "source": [
    "## Tiền xử lý (tách các tập)"
   ]
  },
  {
   "cell_type": "markdown",
   "metadata": {},
   "source": [
    "Bây giờ ta sẽ thực hiện bước tiền xử lý là tách tập validation và tập kiểm tra ra (trong bài tập này thì chỉ tách tập validation)."
   ]
  },
  {
   "cell_type": "code",
   "execution_count": 12,
   "metadata": {},
   "outputs": [],
   "source": [
    "# Tách X và y\n",
    "df = df.reset_index(drop=True)\n",
    "#df.loc[:,'Genre']=df.loc[:,'Genre'].replace(np.nan,'other')\n",
    "X_df = df.drop([\"Rating\",\"Title\"], axis=1)\n",
    "y_sr = df[\"Rating\"]"
   ]
  },
  {
   "cell_type": "code",
   "execution_count": 13,
   "metadata": {},
   "outputs": [],
   "source": [
    "# tách tập train và tập validation\n",
    "train_X_df, val_X_df, train_y_sr, val_y_sr = train_test_split(X_df, y_sr, test_size=0.1, random_state=0)"
   ]
  },
  {
   "cell_type": "code",
   "execution_count": 14,
   "metadata": {},
   "outputs": [
    {
     "data": {
      "text/plain": [
       "(11980, 4)"
      ]
     },
     "execution_count": 14,
     "metadata": {},
     "output_type": "execute_result"
    }
   ],
   "source": [
    "train_X_df.shape"
   ]
  },
  {
   "cell_type": "code",
   "execution_count": 15,
   "metadata": {},
   "outputs": [
    {
     "data": {
      "text/plain": [
       "(11980,)"
      ]
     },
     "execution_count": 15,
     "metadata": {},
     "output_type": "execute_result"
    }
   ],
   "source": [
    "train_y_sr.shape"
   ]
  },
  {
   "cell_type": "markdown",
   "metadata": {},
   "source": [
    "## Khám phá dữ liệu (tập huấn luyện)"
   ]
  },
  {
   "cell_type": "markdown",
   "metadata": {},
   "source": [
    "khám phá trên tập huấn luyện mà không lo sẽ làm kết quả trên tập validation và tập kiểm tra bị mất đi sự khách quan."
   ]
  },
  {
   "cell_type": "markdown",
   "metadata": {},
   "source": [
    "### Mỗi cột input hiện đang có kiểu dữ liệu gì? Có cột nào có kiểu dữ liệu chưa phù hợp để có thể xử lý tiếp không?"
   ]
  },
  {
   "cell_type": "code",
   "execution_count": 16,
   "metadata": {},
   "outputs": [
    {
     "data": {
      "text/plain": [
       "Runtime      float64\n",
       "Genre         object\n",
       "Directors     object\n",
       "Stars         object\n",
       "dtype: object"
      ]
     },
     "execution_count": 16,
     "metadata": {},
     "output_type": "execute_result"
    }
   ],
   "source": [
    "train_X_df.dtypes"
   ]
  },
  {
   "cell_type": "markdown",
   "metadata": {},
   "source": [
    "Có vẻ các cột có kiểu dữ liệu phù hợp, hy vọng các cột object đều là string, không lẫn lộn các kiểu khác (đúng như lúc crawling data)"
   ]
  },
  {
   "cell_type": "markdown",
   "metadata": {},
   "source": [
    "### Với mỗi cột input có kiểu dữ liệu dạng số, các giá trị được phân bố như thế nào?"
   ]
  },
  {
   "cell_type": "markdown",
   "metadata": {},
   "source": [
    "Trong `train_X_df`, có 1/14 cột có dtype không phải là object (cột `Runtime` với kiểu float)"
   ]
  },
  {
   "cell_type": "code",
   "execution_count": 17,
   "metadata": {},
   "outputs": [
    {
     "data": {
      "text/plain": [
       "Runtime    float64\n",
       "dtype: object"
      ]
     },
     "execution_count": 17,
     "metadata": {},
     "output_type": "execute_result"
    }
   ],
   "source": [
    "train_X_df.dtypes[train_X_df.dtypes != object]"
   ]
  },
  {
   "cell_type": "code",
   "execution_count": 18,
   "metadata": {},
   "outputs": [
    {
     "data": {
      "text/html": [
       "<div>\n",
       "<style scoped>\n",
       "    .dataframe tbody tr th:only-of-type {\n",
       "        vertical-align: middle;\n",
       "    }\n",
       "\n",
       "    .dataframe tbody tr th {\n",
       "        vertical-align: top;\n",
       "    }\n",
       "\n",
       "    .dataframe thead th {\n",
       "        text-align: right;\n",
       "    }\n",
       "</style>\n",
       "<table border=\"1\" class=\"dataframe\">\n",
       "  <thead>\n",
       "    <tr style=\"text-align: right;\">\n",
       "      <th></th>\n",
       "      <th>Runtime</th>\n",
       "    </tr>\n",
       "  </thead>\n",
       "  <tbody>\n",
       "    <tr>\n",
       "      <th>missing_ratio</th>\n",
       "      <td>7.4</td>\n",
       "    </tr>\n",
       "    <tr>\n",
       "      <th>min</th>\n",
       "      <td>2.0</td>\n",
       "    </tr>\n",
       "    <tr>\n",
       "      <th>lower_quartile</th>\n",
       "      <td>86.0</td>\n",
       "    </tr>\n",
       "    <tr>\n",
       "      <th>median</th>\n",
       "      <td>96.0</td>\n",
       "    </tr>\n",
       "    <tr>\n",
       "      <th>upper_quartile</th>\n",
       "      <td>111.0</td>\n",
       "    </tr>\n",
       "    <tr>\n",
       "      <th>max</th>\n",
       "      <td>10062.0</td>\n",
       "    </tr>\n",
       "  </tbody>\n",
       "</table>\n",
       "</div>"
      ],
      "text/plain": [
       "                Runtime\n",
       "missing_ratio       7.4\n",
       "min                 2.0\n",
       "lower_quartile     86.0\n",
       "median             96.0\n",
       "upper_quartile    111.0\n",
       "max             10062.0"
      ]
     },
     "execution_count": 18,
     "metadata": {},
     "output_type": "execute_result"
    }
   ],
   "source": [
    "num_cols = ['Runtime']\n",
    "#df = train_X_df[num_cols]\n",
    "def missing_ratio(df):\n",
    "    return (df.isna().mean() * 100).round(1)\n",
    "def lower_quartile(df):\n",
    "    return df.quantile(0.25).round(1)\n",
    "def median(df):\n",
    "    return df.quantile(0.5).round(1)\n",
    "def upper_quartile(df):\n",
    "    return df.quantile(0.75).round(1)\n",
    "train_X_df[num_cols].agg([missing_ratio, 'min', lower_quartile, median, upper_quartile, 'max'])"
   ]
  },
  {
   "cell_type": "markdown",
   "metadata": {},
   "source": [
    "hmm ch này max 10000 hơn lớn"
   ]
  },
  {
   "cell_type": "markdown",
   "metadata": {},
   "source": [
    "### Với mỗi cột input có kiểu dữ liệu không phải dạng số, các giá trị được phân bố như thế nào?"
   ]
  },
  {
   "cell_type": "code",
   "execution_count": 19,
   "metadata": {},
   "outputs": [
    {
     "data": {
      "text/html": [
       "<div>\n",
       "<style scoped>\n",
       "    .dataframe tbody tr th:only-of-type {\n",
       "        vertical-align: middle;\n",
       "    }\n",
       "\n",
       "    .dataframe tbody tr th {\n",
       "        vertical-align: top;\n",
       "    }\n",
       "\n",
       "    .dataframe thead th {\n",
       "        text-align: right;\n",
       "    }\n",
       "</style>\n",
       "<table border=\"1\" class=\"dataframe\">\n",
       "  <thead>\n",
       "    <tr style=\"text-align: right;\">\n",
       "      <th></th>\n",
       "      <th>Stars</th>\n",
       "      <th>Directors</th>\n",
       "      <th>Genre</th>\n",
       "    </tr>\n",
       "  </thead>\n",
       "  <tbody>\n",
       "    <tr>\n",
       "      <th>missing_ratio</th>\n",
       "      <td>1.5</td>\n",
       "      <td>2.2</td>\n",
       "      <td>1.1</td>\n",
       "    </tr>\n",
       "    <tr>\n",
       "      <th>num_values</th>\n",
       "      <td>6473</td>\n",
       "      <td>6086</td>\n",
       "      <td>380</td>\n",
       "    </tr>\n",
       "    <tr>\n",
       "      <th>value_ratios</th>\n",
       "      <td>{'Sergey A.': 0.1, 'Konstantin Davydov,Valeriya Dmitrieva,Kristina Kazinskaya,Anvar Khalilulaev': 0.0, 'Danny Aiello,John Ashton,Daniel Baldwin,Tom Bower': 0.0, 'Thomas Carr,Maria Petrano,Jacob Ty...</td>\n",
       "      <td>{'James Snider': 0.3, 'Sergey A.': 0.1, 'Louisa Warren': 0.1, 'Dustin Ferguson': 0.1, 'Andrew Jones': 0.1, 'Rizal Mantovani': 0.1, 'Michael Feifer': 0.1, 'Christopher Forbes': 0.1, 'Adolfo Alix Jr...</td>\n",
       "      <td>{'Drama': 22.2, 'Comedy': 8.8, 'Horror': 5.3, 'Comedy, Drama': 5.3, 'Thriller': 3.8, 'Drama, Romance': 2.8, 'Action': 2.0, 'Comedy, Romance': 2.0, 'Drama, Thriller': 1.8, 'Comedy, Drama, Romance':...</td>\n",
       "    </tr>\n",
       "  </tbody>\n",
       "</table>\n",
       "</div>"
      ],
      "text/plain": [
       "                                                                                                                                                                                                                 Stars  \\\n",
       "missing_ratio                                                                                                                                                                                                      1.5   \n",
       "num_values                                                                                                                                                                                                        6473   \n",
       "value_ratios   {'Sergey A.': 0.1, 'Konstantin Davydov,Valeriya Dmitrieva,Kristina Kazinskaya,Anvar Khalilulaev': 0.0, 'Danny Aiello,John Ashton,Daniel Baldwin,Tom Bower': 0.0, 'Thomas Carr,Maria Petrano,Jacob Ty...   \n",
       "\n",
       "                                                                                                                                                                                                             Directors  \\\n",
       "missing_ratio                                                                                                                                                                                                      2.2   \n",
       "num_values                                                                                                                                                                                                        6086   \n",
       "value_ratios   {'James Snider': 0.3, 'Sergey A.': 0.1, 'Louisa Warren': 0.1, 'Dustin Ferguson': 0.1, 'Andrew Jones': 0.1, 'Rizal Mantovani': 0.1, 'Michael Feifer': 0.1, 'Christopher Forbes': 0.1, 'Adolfo Alix Jr...   \n",
       "\n",
       "                                                                                                                                                                                                                 Genre  \n",
       "missing_ratio                                                                                                                                                                                                      1.1  \n",
       "num_values                                                                                                                                                                                                         380  \n",
       "value_ratios   {'Drama': 22.2, 'Comedy': 8.8, 'Horror': 5.3, 'Comedy, Drama': 5.3, 'Thriller': 3.8, 'Drama, Romance': 2.8, 'Action': 2.0, 'Comedy, Romance': 2.0, 'Drama, Thriller': 1.8, 'Comedy, Drama, Romance':...  "
      ]
     },
     "execution_count": 19,
     "metadata": {},
     "output_type": "execute_result"
    }
   ],
   "source": [
    "pd.set_option('display.max_colwidth', 200) # Để nhìn rõ hơn\n",
    "cat_cols = list(set(train_X_df.columns) - set(num_cols))\n",
    "#df = train_X_df[cat_cols]\n",
    "def missing_ratio(df):\n",
    "    return (df.isna().mean() * 100).round(1)\n",
    "def num_values(df):\n",
    "    return df.nunique()\n",
    "def value_ratios(c):\n",
    "    return dict((c.value_counts(normalize=True) * 100).round(1))\n",
    "train_X_df[cat_cols].agg([missing_ratio, num_values, value_ratios])"
   ]
  },
  {
   "cell_type": "markdown",
   "metadata": {},
   "source": [
    "Do là các cột có nhiều giá trị (phân cách bởi dấu phẩy) chứ không phải một giá trị duy nhất, nên các tỉ lệ này nhìn chung không có ý nghĩa gì nhiều"
   ]
  },
  {
   "cell_type": "markdown",
   "metadata": {},
   "source": [
    "Visualize missing value trong các cột thêm độ trực quan"
   ]
  },
  {
   "cell_type": "code",
   "execution_count": 20,
   "metadata": {},
   "outputs": [
    {
     "data": {
      "text/plain": [
       "<matplotlib.axes._subplots.AxesSubplot at 0x7f46077923d0>"
      ]
     },
     "execution_count": 20,
     "metadata": {},
     "output_type": "execute_result"
    },
    {
     "data": {
      "image/png": "[encoded data removed]",
      "text/plain": [
       "<Figure size 1800x720 with 2 Axes>"
      ]
     },
     "metadata": {
      "needs_background": "light"
     },
     "output_type": "display_data"
    }
   ],
   "source": [
    "msno.matrix(train_X_df)"
   ]
  },
  {
   "cell_type": "code",
   "execution_count": 21,
   "metadata": {},
   "outputs": [
    {
     "data": {
      "text/plain": [
       "<matplotlib.axes._subplots.AxesSubplot at 0x7f4605c5b990>"
      ]
     },
     "execution_count": 21,
     "metadata": {},
     "output_type": "execute_result"
    },
    {
     "data": {
      "image/png": "[encoded data removed]",
      "text/plain": [
       "<Figure size 1728x720 with 3 Axes>"
      ]
     },
     "metadata": {
      "needs_background": "light"
     },
     "output_type": "display_data"
    }
   ],
   "source": [
    "msno.bar(train_X_df)"
   ]
  },
  {
   "cell_type": "markdown",
   "metadata": {},
   "source": [
    "## Tiền xử lý (tập huấn luyện) (3.5đ)"
   ]
  },
  {
   "cell_type": "markdown",
   "metadata": {},
   "source": [
    "<ul><ul>Xử lý dữ liệu trống bằng thay thế các từ cần thiết, xóa những dòng dữ liệu bất thường, tạo dữ liệu để thực hiện bài toán, xóa luôn cột Title (tên phim) vi nó không mang giá trị, ý nghĩa</ul></ul>"
   ]
  },
  {
   "cell_type": "markdown",
   "metadata": {},
   "source": [
    "### <ul>Tạo pipeline tiền xử lý dữ liệu </ul>"
   ]
  },
  {
   "cell_type": "markdown",
   "metadata": {},
   "source": [
    "<ul><ul>\n",
    "    <strong>Lấy dữ liệu top 100 stars trên IMDB và top 250 director trên IMDB và chuyển về dạng có hạng</strong><br>\n",
    "    Danh sách lấy dựa trên xếp hạng của IMDB: <br> \n",
    "    <a href=\"https://www.imdb.com/list/ls045252306/\"><b> - Top 100 Stars of 2018</b></a> <br>\n",
    "        <a href=\"https://www.imdb.com/list/ls028081607/\"><b> - Imdb top 250 directors of 2018</b></a>\n",
    "</ul></ul>\n",
    "\n"
   ]
  },
  {
   "cell_type": "code",
   "execution_count": 23,
   "metadata": {},
   "outputs": [],
   "source": [
    "stars_top100=['Karen Gillan', 'Bryce Dallas Howard', 'Alicia Vikander', 'Tom Hardy', 'Rebecca Ferguson', 'Lily James', 'Jessica Barden', 'Hannah John-Kamen', 'Josh Brolin', 'Tessa Thompson', 'Alexandra Daddario', 'Brie Larson', 'Carla Gugino', 'Emilia Clarke', 'Evangeline Lilly', 'Margot Robbie', 'Martha Higareda', 'Michael B. Jordan', 'Ruby Rose', 'Olivia Cooke', 'Morena Baccarin', 'Yvonne Strahovski', 'Julia Garner', 'Noah Centineo', 'Ana de Armas', 'Kiernan Shipka', 'John Krasinski', 'Meghan Markle', 'Jacob Elordi', 'Parker Posey', 'Rami Malek', 'Vanessa Kirby', 'Bonnie Aarons', 'Sonoya Mizuno', 'Zendaya', 'Debby Ryan', 'Gal Gadot', 'Emily Blunt', 'Timothée Chalamet', 'Naomi Scott', 'Jennifer Lawrence', 'Joey King', 'Tom Cruise', 'Joel Kinnaman', 'Jessica Chastain', 'Alden Ehrenreich', 'Bill Skarsgård', 'Zazie Beetz', 'Frances McDormand', 'Kate Siegel', 'Burt Reynolds', 'Amber Heard', 'Alison Brie', 'Chadwick Boseman', 'Daisy Ridley', 'Steve Wilder', 'Eliza Dushku', 'Lady Gaga', 'Zoey Deutch', 'Sally Hawkins', 'Jackson Odell', 'Allison Mack', 'Pom Klementieff', 'Jimmy Bennett', 'Abbie Cornish', 'Saoirse Ronan', 'Letitia Wright', 'Elizabeth Olsen', 'Dwayne Johnson', 'Gemma Chan', 'Rachel Brosnahan', 'Claire Foy', 'Milly Shapiro', 'Michelle Williams', 'Henry Cavill', 'Amy Adams', 'Chris Hemsworth', 'Lana Condor', 'Jason Momoa', 'Richard Madden', 'Joel Edgerton', 'Cate Blanchett', 'Alice Eve', 'Gary Oldman', 'Chris Pratt', 'Tom Holland', 'Hailee Steinfeld', 'Mina Sundwall', 'Ryan Reynolds', 'Cristin Milioti', 'Olivia Munn', 'Lucy Davis', 'Blake Lively', 'Mackenzie Foy', 'Amanda Fuller', 'Scarlett Johansson', 'Dichen Lachman', 'Sam Rockwell', 'Sofia Boutella', 'Evan Rachel Wood']\n",
    "directors_top250= ['Christopher Nolan', 'Peter Jackson', 'Quentin Tarantino', 'Martin Scorsese', 'James Cameron', 'Steven Spielberg', 'David Fincher', 'Lee Unkrich', 'Ridley Scott', 'George Lucas', 'Stanley Kubrick', 'Zack Snyder', 'Ethan Coen', 'Joel Coen', 'Gore Verbinski', 'Francis Ford Coppola', 'Bryan Singer', 'Pete Docter', 'Matthew Vaughn', 'Anthony Russo', 'Joe Russo', 'Guy Ritchie', 'Robert Zemeckis', 'Sam Raimi', 'J.J. Abrams', 'Brad Bird', 'Alfonso Cuarón', 'Lana Wachowski', 'Lilly Wachowski', 'Doug Liman', 'David Yates', 'Luc Besson', 'Clint Eastwood', 'Chris Columbus', 'Paul Greengrass', 'Marc Webb', 'Tim Burton', 'Francis Lawrence', 'Ron Howard', 'Michael Bay', 'Sam Mendes', 'Danny Boyle', 'John McTiernan', 'Neil Burger', 'Denis Villeneuve', 'Andrew Adamson', 'James Wan', 'Edgar Wright', 'Roland Emmerich', 'John Lasseter', 'David O. Russell', 'Alfred Hitchcock', 'M. Night Shyamalan', 'Todd Phillips', 'Barry Sonnenfeld', 'Phil Lord', 'Christopher Miller', 'Steven Soderbergh', 'Antoine Fuqua', 'Guillermo del Toro', 'Darren Aronofsky', 'Hayao Miyazaki', 'Alejandro G. Iñárritu', 'Mel Gibson', 'Joss Whedon', 'Louis Leterrier', 'James Mangold', 'Sergio Leone', 'Joe Johnston', 'Michael Mann', 'Frank Darabont', 'Tony Scott', 'Andrew Niccol', 'Mike Newell', 'Brian De Palma', 'Tom Shadyac', 'Andrew Stanton', 'Wes Anderson', 'Adam McKay', 'Terry Gilliam', 'Ang Lee', 'Justin Lin', 'Jon Favreau', 'Richard Linklater', 'Ben Affleck', 'Ben Stiller', 'Len Wiseman', 'Stephen Sommers', 'Woody Allen', 'Peter Berg', 'Martin Campbell', 'Duncan Jones', 'Martin McDonagh', 'Cameron Crowe', 'Paul Thomas Anderson', 'Brett Ratner', 'Joel Schumacher', 'Rob Reiner', 'Paul Verhoeven', 'Neill Blomkamp', 'David Ayer', 'Bobby Farrelly', 'Peter Farrelly', 'Jason Reitman', 'Marc Forster', 'Ron Clements', 'John Musker', 'Bill Condon', 'Jay Roach', 'Shane Black', 'Carlos Saldanha', 'Baz Luhrmann', 'Peter Weir', 'Peter Segal', 'Matt Reeves', 'Robert Rodriguez', 'Pierre Coffin', 'Sylvester Stallone', 'Simon West', 'Dennis Dugan', 'Paul Feig', 'Nancy Meyers', 'Shawn Levy', 'Tom Tykwer', 'Joe Wright', 'Alex Proyas', 'Tom McGrath', 'Jaume Collet-Serra', 'Byron Howard', 'Chris Williams', 'F. Gary Gray', 'Paul W.S. Anderson', 'Jonathan Liebesman', 'Lasse Hallström', 'D.J. Caruso', 'Chris Weitz', 'Wolfgang Petersen', 'Roman Polanski', 'Edward Zwick', 'Kevin Smith', 'Ivan Reitman', 'Spike Jonze', 'McG', 'Nicholas Stoller', 'David Lynch', 'Robert Luketic', 'Seth MacFarlane', 'Scott Derrickson', 'George Miller', 'Oliver Stone', 'David Dobkin', 'Chris Renaud', 'Richard Donner', 'Greg Mottola', 'Martin Brest', 'David Slade', 'Olivier Megaton', 'Dean DeBlois', 'Chris Sanders', 'David Twohy', 'Jon Turteltaub', 'Wes Craven', 'Eric Darnell', 'Conrad Vernon', 'David Cronenberg', 'Charles Chaplin', 'Tom Hooper', 'Billy Wilder', 'Rob Cohen', 'David Leitch', 'J.A. Bayona', 'Kenneth Branagh', 'Kathryn Bigelow', 'Larry Charles', 'Joe Carnahan', 'Anthony Minghella', 'Rob Marshall', 'Robert Schwentke', 'Darren Lynn Bousman', 'Rawson Marshall Thurber', 'Sidney Lumet', 'David Zucker', 'Mark Neveldine', 'Brian Taylor', 'Christopher McQuarrie', 'Brian Helgeland', 'Dean Parisot', 'Frank Coraci', 'Kirk Wise', 'John Landis', 'Jan de Bont', 'Judd Apatow', 'Clyde Geronimi', 'Kevin Reynolds', 'Alexander Payne', 'Keenen Ivory Wayans', 'Bennett Miller', 'Milos Forman', 'Peyton Reed', 'Barry Levinson', 'Nick Cassavetes', 'Mel Brooks', 'Wilfred Jackson', 'Hamilton Luske', 'Seth Gordon', 'Stephen Daldry', 'Baltasar Kormákur', 'John G. Avildsen', 'John Singleton', 'John Carpenter', 'Renny Harlin', 'John Hughes', 'Garry Marshall', 'Taylor Hackford', 'Lars von Trier', 'Phillip Noyce', 'Brad Silberling', 'Anne Fletcher', 'Jack Kinney', 'Bill Roberts', 'Ben Sharpsteen', 'Jerry Zucker', 'Yimou Zhang', 'Terry Jones', 'Richard Curtis', 'Wolfgang Reitherman', 'Mike Nichols', 'Nicolas Winding Refn', 'Jake Kasdan', 'John Woo', 'Paul Weitz', 'Rob Minkoff', 'Akira Kurosawa', 'Jonathan Demme', 'Chuck Russell', 'Chris Wedge', 'John Moore', 'Harold Ramis', 'Rian Johnson', 'Andy Tennant', 'Craig Gillespie', 'Terence Young', 'Gregory Hoblit', 'Nora Ephron', 'Jean-Jacques Annaud', 'Mark Waters', 'Tim Story', 'Sofia Coppola', 'James Gunn', 'Morten Tyldum']\n",
    "def create_rank_dict(rank_list):\n",
    "    rank_dict = {}\n",
    "    for i in range(len(rank_list)):\n",
    "        rank_dict[rank_list[i]]=i+1\n",
    "    return rank_dict\n",
    "rank_directors= create_rank_dict(directors_top250)\n",
    "rank_stars = create_rank_dict(stars_top100)"
   ]
  },
  {
   "cell_type": "markdown",
   "metadata": {},
   "source": [
    "<ul>\n",
    "    <ul>\n",
    "        <strong>Tạo transformer tiền xử lý các cột dữ liệu</strong>\n",
    "    </ul>\n",
    "</ul>"
   ]
  },
  {
   "cell_type": "markdown",
   "metadata": {},
   "source": [
    "<ul><ul><ul><u><b>Xử lý cột Genre:</b></u> Tách dữ liệu cột Genre thành các cột mới, với các cột mới là cacs cột phổ biến được gợi ý tren website <a href=\"https://www.imdb.com/chart/moviemeter/?ref_=nv_mv_mpm\"> <b>IMDB</b></a>, với bộ phim nào mà có thuộc tính thể loại đó sẽ đánh là 1 và ngược lại là 0\n",
    "    \n",
    "</ul></ul></ul>"
   ]
  },
  {
   "cell_type": "code",
   "execution_count": 24,
   "metadata": {},
   "outputs": [],
   "source": [
    "genres = ['Action','Adventure','Animation','Biography','Comedy','Crime','Drama','Family','Fantasy','Film-Noir','History',\n",
    "          'Horror','Music','Musical','Mystery','Romance','Sci-Fi','Sport','Thriller','War','Western']\n",
    "def GenreReplacement(string):\n",
    "    #print(string)\n",
    "    ls = string.split(', ')\n",
    "    new_ls = [x if x in genres else 'other' for x in ls]\n",
    "    return new_ls\n",
    "class GenreTransformer(BaseEstimator, TransformerMixin):\n",
    "    def fit(self, X_df, y=None):\n",
    "        return self\n",
    "    def transform(self, X_df, y=None):\n",
    "        result = X_df.copy()\n",
    "        result['Genre'] = result['Genre'].apply(GenreReplacement)\n",
    "        result[genres] = 0\n",
    "        for genre in genres:\n",
    "            result.loc[:,[genre]] = result['Genre'].apply(lambda x: 1 if genre in x else 0)\n",
    "        result.drop(columns=['Genre'], inplace = True)\n",
    "        return result"
   ]
  },
  {
   "cell_type": "markdown",
   "metadata": {},
   "source": [
    "<ul><ul><ul><u><b>Xử lý cột Directors:</u></b> Về cơ bản thì xem phim, đạo diễn nào nổi tiếng thì phim thường sẽ hay, nên cột này sẽ so sánh xem thứ hạng Director, Director nào mà quá hạng thì sẽ coi như là hạng 251 \n",
    "    \n",
    "</ul></ul></ul>"
   ]
  },
  {
   "cell_type": "code",
   "execution_count": 26,
   "metadata": {},
   "outputs": [],
   "source": [
    "def Directors_Replacement(director):\n",
    "    if(director in directors_top250 ):\n",
    "        score =rank_directors[director]\n",
    "    else:\n",
    "        score= 251 \n",
    "    return score       \n",
    "class Directors_Transformer(BaseEstimator, TransformerMixin):\n",
    "    def fit(self, X_df, y=None):\n",
    "        return self\n",
    "    def transform(self, X_df, y=None):\n",
    "        result = X_df.copy()\n",
    "        result['Directors'] = result['Directors'].apply(Directors_Replacement)\n",
    "        return result"
   ]
  },
  {
   "cell_type": "markdown",
   "metadata": {},
   "source": [
    "<ul><ul><ul><u><b>Xử lý cột Stars:</u></b> Về cơ bản thì xem phim, diễn viên nào nổi tiếng thì phim thường sẽ hay, nên cột này sẽ so sánh xem thứ hạng các \"ngôi sao điện ảnh\", diễn viễn nào mà quá hạng thì sẽ coi như là hạng 251 \n",
    "</ul></ul></ul>"
   ]
  },
  {
   "cell_type": "code",
   "execution_count": 28,
   "metadata": {},
   "outputs": [],
   "source": [
    "def p_Stars_Replacement(stars):\n",
    "    stars_list = stars.split(',')\n",
    "    n=0\n",
    "    for star in stars_list:\n",
    "        if star in stars_top100:\n",
    "            n+=1\n",
    "    p=(n+1)/(len(stars_list)+1)\n",
    "    return  p\n",
    "def score_Stars_Replacement(stars):\n",
    "    stars_list = stars.split(',')\n",
    "    score= 102*4\n",
    "    for star in stars_list:\n",
    "        if star in stars_top100:\n",
    "            score=score-rank_stars[star]\n",
    "    return score\n",
    "               \n",
    "class Stars_Transformer(BaseEstimator, TransformerMixin):\n",
    "    def __init__(self, num_top_titles=1):\n",
    "        self.num_top_titles = num_top_titles\n",
    "    def fit(self, X_df, y=None):\n",
    "        return self\n",
    "    def transform(self, X_df, y=None):\n",
    "        result = X_df.copy()\n",
    "        #result.loc[:,'Stars']=result.loc[:,'Stars'].replace(np.nan,'other')\n",
    "        result['p_stars']=result['Stars'].apply(p_Stars_Replacement)\n",
    "        result['Stars'] = result['Stars'].apply(score_Stars_Replacement)\n",
    "        return result"
   ]
  },
  {
   "cell_type": "markdown",
   "metadata": {},
   "source": [
    "<ul>\n",
    "    <ul>\n",
    "        <strong>Tạo pipeline tiền xử lý dữ liệu với các Transformer ở trên và dùng StandardScaler</strong>\n",
    "    </ul>\n",
    "</ul>"
   ]
  },
  {
   "cell_type": "code",
   "execution_count": 55,
   "metadata": {},
   "outputs": [],
   "source": [
    "class CustomImputer(BaseEstimator, TransformerMixin):\n",
    "    def fit(self, X_df, y=None):\n",
    "        return self\n",
    "    def transform(self, X_df, y=None):\n",
    "        result = X_df.copy()\n",
    "        result.loc[:,'Stars']=result.loc[:,'Stars'].replace(np.nan,'other')\n",
    "        result.loc[:,'Genre']=result.loc[:,'Genre'].replace(np.nan,'other')\n",
    "        result.loc[:,'Directors']=result.loc[:,'Directors'].replace(np.nan,'other') \n",
    "        return result"
   ]
  },
  {
   "cell_type": "code",
   "execution_count": 57,
   "metadata": {},
   "outputs": [],
   "source": [
    "cate_pipeline = make_pipeline(Directors_Transformer(),\n",
    "                             Stars_Transformer(),\n",
    "                             GenreTransformer())\n",
    "                              \n",
    "\n",
    "nume_pipeline = make_pipeline(SimpleImputer(strategy='mean'), \n",
    "                              KBinsDiscretizer(n_bins=3, encode='ordinal', strategy='kmeans'))\n"
   ]
  },
  {
   "cell_type": "code",
   "execution_count": 58,
   "metadata": {},
   "outputs": [],
   "source": [
    "column_trans = ColumnTransformer(\n",
    "    [(\"trans1\", nume_pipeline, ['Runtime']),\n",
    "    (\"trans2\", cate_pipeline, ['Directors','Stars','Genre'])])"
   ]
  },
  {
   "cell_type": "code",
   "execution_count": 59,
   "metadata": {},
   "outputs": [
    {
     "data": {
      "text/html": [
       "<style>div.sk-top-container {color: black;background-color: white;}div.sk-toggleable {background-color: white;}label.sk-toggleable__label {cursor: pointer;display: block;width: 100%;margin-bottom: 0;padding: 0.2em 0.3em;box-sizing: border-box;text-align: center;}div.sk-toggleable__content {max-height: 0;max-width: 0;overflow: hidden;text-align: left;background-color: #f0f8ff;}div.sk-toggleable__content pre {margin: 0.2em;color: black;border-radius: 0.25em;background-color: #f0f8ff;}input.sk-toggleable__control:checked~div.sk-toggleable__content {max-height: 200px;max-width: 100%;overflow: auto;}div.sk-estimator input.sk-toggleable__control:checked~label.sk-toggleable__label {background-color: #d4ebff;}div.sk-label input.sk-toggleable__control:checked~label.sk-toggleable__label {background-color: #d4ebff;}input.sk-hidden--visually {border: 0;clip: rect(1px 1px 1px 1px);clip: rect(1px, 1px, 1px, 1px);height: 1px;margin: -1px;overflow: hidden;padding: 0;position: absolute;width: 1px;}div.sk-estimator {font-family: monospace;background-color: #f0f8ff;margin: 0.25em 0.25em;border: 1px dotted black;border-radius: 0.25em;box-sizing: border-box;}div.sk-estimator:hover {background-color: #d4ebff;}div.sk-parallel-item::after {content: \"\";width: 100%;border-bottom: 1px solid gray;flex-grow: 1;}div.sk-label:hover label.sk-toggleable__label {background-color: #d4ebff;}div.sk-serial::before {content: \"\";position: absolute;border-left: 1px solid gray;box-sizing: border-box;top: 2em;bottom: 0;left: 50%;}div.sk-serial {display: flex;flex-direction: column;align-items: center;background-color: white;}div.sk-item {z-index: 1;}div.sk-parallel {display: flex;align-items: stretch;justify-content: center;background-color: white;}div.sk-parallel-item {display: flex;flex-direction: column;position: relative;background-color: white;}div.sk-parallel-item:first-child::after {align-self: flex-end;width: 50%;}div.sk-parallel-item:last-child::after {align-self: flex-start;width: 50%;}div.sk-parallel-item:only-child::after {width: 0;}div.sk-dashed-wrapped {border: 1px dashed gray;margin: 0.2em;box-sizing: border-box;padding-bottom: 0.1em;background-color: white;position: relative;}div.sk-label label {font-family: monospace;font-weight: bold;background-color: white;display: inline-block;line-height: 1.2em;}div.sk-label-container {position: relative;z-index: 2;text-align: center;}div.sk-container {display: inline-block;position: relative;}</style><div class=\"sk-top-container\"><div class=\"sk-container\"><div class=\"sk-item sk-dashed-wrapped\"><div class=\"sk-label-container\"><div class=\"sk-label sk-toggleable\"><input class=\"sk-toggleable__control sk-hidden--visually\" id=\"f1332564-4135-4855-abb2-753f1c07b82e\" type=\"checkbox\" ><label class=\"sk-toggleable__label\" for=\"f1332564-4135-4855-abb2-753f1c07b82e\">Pipeline</label><div class=\"sk-toggleable__content\"><pre>Pipeline(steps=[('customimputer', CustomImputer()),\n",
       "                ('columntransformer',\n",
       "                 ColumnTransformer(transformers=[('trans1',\n",
       "                                                  Pipeline(steps=[('simpleimputer',\n",
       "                                                                   SimpleImputer()),\n",
       "                                                                  ('kbinsdiscretizer',\n",
       "                                                                   KBinsDiscretizer(encode='ordinal',\n",
       "                                                                                    n_bins=3,\n",
       "                                                                                    strategy='kmeans'))]),\n",
       "                                                  ['Runtime']),\n",
       "                                                 ('trans2',\n",
       "                                                  Pipeline(steps=[('directors_transformer',\n",
       "                                                                   Directors_Transformer()),\n",
       "                                                                  ('stars_transformer',\n",
       "                                                                   Stars_Transformer()),\n",
       "                                                                  ('genretransformer',\n",
       "                                                                   GenreTransformer())]),\n",
       "                                                  ['Directors', 'Stars',\n",
       "                                                   'Genre'])])),\n",
       "                ('standardscaler', StandardScaler())])</pre></div></div></div><div class=\"sk-serial\"><div class=\"sk-item\"><div class=\"sk-estimator sk-toggleable\"><input class=\"sk-toggleable__control sk-hidden--visually\" id=\"85664669-951c-4695-b40c-5f86466c4478\" type=\"checkbox\" ><label class=\"sk-toggleable__label\" for=\"85664669-951c-4695-b40c-5f86466c4478\">CustomImputer</label><div class=\"sk-toggleable__content\"><pre>CustomImputer()</pre></div></div></div><div class=\"sk-item sk-dashed-wrapped\"><div class=\"sk-label-container\"><div class=\"sk-label sk-toggleable\"><input class=\"sk-toggleable__control sk-hidden--visually\" id=\"f09cf36e-17f6-41c5-b44a-cc2a98b1c807\" type=\"checkbox\" ><label class=\"sk-toggleable__label\" for=\"f09cf36e-17f6-41c5-b44a-cc2a98b1c807\">columntransformer: ColumnTransformer</label><div class=\"sk-toggleable__content\"><pre>ColumnTransformer(transformers=[('trans1',\n",
       "                                 Pipeline(steps=[('simpleimputer',\n",
       "                                                  SimpleImputer()),\n",
       "                                                 ('kbinsdiscretizer',\n",
       "                                                  KBinsDiscretizer(encode='ordinal',\n",
       "                                                                   n_bins=3,\n",
       "                                                                   strategy='kmeans'))]),\n",
       "                                 ['Runtime']),\n",
       "                                ('trans2',\n",
       "                                 Pipeline(steps=[('directors_transformer',\n",
       "                                                  Directors_Transformer()),\n",
       "                                                 ('stars_transformer',\n",
       "                                                  Stars_Transformer()),\n",
       "                                                 ('genretransformer',\n",
       "                                                  GenreTransformer())]),\n",
       "                                 ['Directors', 'Stars', 'Genre'])])</pre></div></div></div><div class=\"sk-parallel\"><div class=\"sk-parallel-item\"><div class=\"sk-item\"><div class=\"sk-label-container\"><div class=\"sk-label sk-toggleable\"><input class=\"sk-toggleable__control sk-hidden--visually\" id=\"fd510235-80d8-4e21-9b7b-51452c653456\" type=\"checkbox\" ><label class=\"sk-toggleable__label\" for=\"fd510235-80d8-4e21-9b7b-51452c653456\">trans1</label><div class=\"sk-toggleable__content\"><pre>['Runtime']</pre></div></div></div><div class=\"sk-serial\"><div class=\"sk-item\"><div class=\"sk-serial\"><div class=\"sk-item\"><div class=\"sk-estimator sk-toggleable\"><input class=\"sk-toggleable__control sk-hidden--visually\" id=\"d9f9ced2-beb4-4df4-8796-083680dfbc8e\" type=\"checkbox\" ><label class=\"sk-toggleable__label\" for=\"d9f9ced2-beb4-4df4-8796-083680dfbc8e\">SimpleImputer</label><div class=\"sk-toggleable__content\"><pre>SimpleImputer()</pre></div></div></div><div class=\"sk-item\"><div class=\"sk-estimator sk-toggleable\"><input class=\"sk-toggleable__control sk-hidden--visually\" id=\"6a6078f6-5382-4feb-97a7-67ba8c21c918\" type=\"checkbox\" ><label class=\"sk-toggleable__label\" for=\"6a6078f6-5382-4feb-97a7-67ba8c21c918\">KBinsDiscretizer</label><div class=\"sk-toggleable__content\"><pre>KBinsDiscretizer(encode='ordinal', n_bins=3, strategy='kmeans')</pre></div></div></div></div></div></div></div></div><div class=\"sk-parallel-item\"><div class=\"sk-item\"><div class=\"sk-label-container\"><div class=\"sk-label sk-toggleable\"><input class=\"sk-toggleable__control sk-hidden--visually\" id=\"e91beefc-ff92-4a04-aec5-e8b51bfd36a3\" type=\"checkbox\" ><label class=\"sk-toggleable__label\" for=\"e91beefc-ff92-4a04-aec5-e8b51bfd36a3\">trans2</label><div class=\"sk-toggleable__content\"><pre>['Directors', 'Stars', 'Genre']</pre></div></div></div><div class=\"sk-serial\"><div class=\"sk-item\"><div class=\"sk-serial\"><div class=\"sk-item\"><div class=\"sk-estimator sk-toggleable\"><input class=\"sk-toggleable__control sk-hidden--visually\" id=\"0328c128-97ac-4e73-b4f5-dc06be7339ca\" type=\"checkbox\" ><label class=\"sk-toggleable__label\" for=\"0328c128-97ac-4e73-b4f5-dc06be7339ca\">Directors_Transformer</label><div class=\"sk-toggleable__content\"><pre>Directors_Transformer()</pre></div></div></div><div class=\"sk-item\"><div class=\"sk-estimator sk-toggleable\"><input class=\"sk-toggleable__control sk-hidden--visually\" id=\"3bd1122a-5c11-4547-b773-ad7c5977f430\" type=\"checkbox\" ><label class=\"sk-toggleable__label\" for=\"3bd1122a-5c11-4547-b773-ad7c5977f430\">Stars_Transformer</label><div class=\"sk-toggleable__content\"><pre>Stars_Transformer()</pre></div></div></div><div class=\"sk-item\"><div class=\"sk-estimator sk-toggleable\"><input class=\"sk-toggleable__control sk-hidden--visually\" id=\"e6effeb2-de19-40cc-9da4-825d13b9f196\" type=\"checkbox\" ><label class=\"sk-toggleable__label\" for=\"e6effeb2-de19-40cc-9da4-825d13b9f196\">GenreTransformer</label><div class=\"sk-toggleable__content\"><pre>GenreTransformer()</pre></div></div></div></div></div></div></div></div></div></div><div class=\"sk-item\"><div class=\"sk-estimator sk-toggleable\"><input class=\"sk-toggleable__control sk-hidden--visually\" id=\"e8c4d809-5f7a-4155-8556-6d9c7c6e5d18\" type=\"checkbox\" ><label class=\"sk-toggleable__label\" for=\"e8c4d809-5f7a-4155-8556-6d9c7c6e5d18\">StandardScaler</label><div class=\"sk-toggleable__content\"><pre>StandardScaler()</pre></div></div></div></div></div></div></div>"
      ],
      "text/plain": [
       "Pipeline(steps=[('customimputer', CustomImputer()),\n",
       "                ('columntransformer',\n",
       "                 ColumnTransformer(transformers=[('trans1',\n",
       "                                                  Pipeline(steps=[('simpleimputer',\n",
       "                                                                   SimpleImputer()),\n",
       "                                                                  ('kbinsdiscretizer',\n",
       "                                                                   KBinsDiscretizer(encode='ordinal',\n",
       "                                                                                    n_bins=3,\n",
       "                                                                                    strategy='kmeans'))]),\n",
       "                                                  ['Runtime']),\n",
       "                                                 ('trans2',\n",
       "                                                  Pipeline(steps=[('directors_transformer',\n",
       "                                                                   Directors_Transformer()),\n",
       "                                                                  ('stars_transformer',\n",
       "                                                                   Stars_Transformer()),\n",
       "                                                                  ('genretransformer',\n",
       "                                                                   GenreTransformer())]),\n",
       "                                                  ['Directors', 'Stars',\n",
       "                                                   'Genre'])])),\n",
       "                ('standardscaler', StandardScaler())])"
      ]
     },
     "execution_count": 59,
     "metadata": {},
     "output_type": "execute_result"
    }
   ],
   "source": [
    "preprocess_pipeline = make_pipeline(\n",
    "    CustomImputer(),\n",
    "    column_trans,\n",
    "    StandardScaler()\n",
    ")\n",
    "preprocess_pipeline"
   ]
  },
  {
   "cell_type": "markdown",
   "metadata": {},
   "source": [
    "<ul>\n",
    "    <ul>\n",
    "        <strong>Sử dụng pipeline vừa tạo để áp dụng lên tập train và validation</strong>\n",
    "    </ul>\n",
    "</ul>"
   ]
  },
  {
   "cell_type": "code",
   "execution_count": 60,
   "metadata": {},
   "outputs": [],
   "source": [
    "preprocessed_train_X=preprocess_pipeline.fit_transform(train_X_df)\n",
    "preprocessed_val_X=preprocess_pipeline.transform(val_X_df)"
   ]
  },
  {
   "cell_type": "markdown",
   "metadata": {},
   "source": [
    "### III. CHỌN MÔ HÌNH CHO BÀI TOÁN"
   ]
  },
  {
   "cell_type": "markdown",
   "metadata": {},
   "source": [
    "<ul><ul>Tiến hành xây dụng một pipeline để áp dụng model <b>MLPClassifier</b> cho bài toán </ul></ul>"
   ]
  },
  {
   "cell_type": "code",
   "execution_count": 37,
   "metadata": {},
   "outputs": [
    {
     "data": {
      "text/html": [
       "<style>div.sk-top-container {color: black;background-color: white;}div.sk-toggleable {background-color: white;}label.sk-toggleable__label {cursor: pointer;display: block;width: 100%;margin-bottom: 0;padding: 0.2em 0.3em;box-sizing: border-box;text-align: center;}div.sk-toggleable__content {max-height: 0;max-width: 0;overflow: hidden;text-align: left;background-color: #f0f8ff;}div.sk-toggleable__content pre {margin: 0.2em;color: black;border-radius: 0.25em;background-color: #f0f8ff;}input.sk-toggleable__control:checked~div.sk-toggleable__content {max-height: 200px;max-width: 100%;overflow: auto;}div.sk-estimator input.sk-toggleable__control:checked~label.sk-toggleable__label {background-color: #d4ebff;}div.sk-label input.sk-toggleable__control:checked~label.sk-toggleable__label {background-color: #d4ebff;}input.sk-hidden--visually {border: 0;clip: rect(1px 1px 1px 1px);clip: rect(1px, 1px, 1px, 1px);height: 1px;margin: -1px;overflow: hidden;padding: 0;position: absolute;width: 1px;}div.sk-estimator {font-family: monospace;background-color: #f0f8ff;margin: 0.25em 0.25em;border: 1px dotted black;border-radius: 0.25em;box-sizing: border-box;}div.sk-estimator:hover {background-color: #d4ebff;}div.sk-parallel-item::after {content: \"\";width: 100%;border-bottom: 1px solid gray;flex-grow: 1;}div.sk-label:hover label.sk-toggleable__label {background-color: #d4ebff;}div.sk-serial::before {content: \"\";position: absolute;border-left: 1px solid gray;box-sizing: border-box;top: 2em;bottom: 0;left: 50%;}div.sk-serial {display: flex;flex-direction: column;align-items: center;background-color: white;}div.sk-item {z-index: 1;}div.sk-parallel {display: flex;align-items: stretch;justify-content: center;background-color: white;}div.sk-parallel-item {display: flex;flex-direction: column;position: relative;background-color: white;}div.sk-parallel-item:first-child::after {align-self: flex-end;width: 50%;}div.sk-parallel-item:last-child::after {align-self: flex-start;width: 50%;}div.sk-parallel-item:only-child::after {width: 0;}div.sk-dashed-wrapped {border: 1px dashed gray;margin: 0.2em;box-sizing: border-box;padding-bottom: 0.1em;background-color: white;position: relative;}div.sk-label label {font-family: monospace;font-weight: bold;background-color: white;display: inline-block;line-height: 1.2em;}div.sk-label-container {position: relative;z-index: 2;text-align: center;}div.sk-container {display: inline-block;position: relative;}</style><div class=\"sk-top-container\"><div class=\"sk-container\"><div class=\"sk-item sk-dashed-wrapped\"><div class=\"sk-label-container\"><div class=\"sk-label sk-toggleable\"><input class=\"sk-toggleable__control sk-hidden--visually\" id=\"88a58089-69eb-4c0e-89fe-33b063eab1f2\" type=\"checkbox\" ><label class=\"sk-toggleable__label\" for=\"88a58089-69eb-4c0e-89fe-33b063eab1f2\">Pipeline</label><div class=\"sk-toggleable__content\"><pre>Pipeline(steps=[('pipeline',\n",
       "                 Pipeline(steps=[('customimputer', CustomImputer()),\n",
       "                                 ('columntransformer',\n",
       "                                  ColumnTransformer(transformers=[('trans1',\n",
       "                                                                   Pipeline(steps=[('simpleimputer',\n",
       "                                                                                    SimpleImputer()),\n",
       "                                                                                   ('kbinsdiscretizer',\n",
       "                                                                                    KBinsDiscretizer(encode='ordinal',\n",
       "                                                                                                     n_bins=3,\n",
       "                                                                                                     strategy='kmeans'))]),\n",
       "                                                                   ['Runtime']),\n",
       "                                                                  ('trans2',\n",
       "                                                                   Pipeline(steps=[('directors_transformer',\n",
       "                                                                                    Directors_Transformer()),\n",
       "                                                                                   ('stars_transformer',\n",
       "                                                                                    Stars_Transformer()),\n",
       "                                                                                   ('genretransformer',\n",
       "                                                                                    GenreTransformer())]),\n",
       "                                                                   ['Directors',\n",
       "                                                                    'Stars',\n",
       "                                                                    'Genre'])])),\n",
       "                                 ('standardscaler', StandardScaler())])),\n",
       "                ('mlpclassifier',\n",
       "                 MLPClassifier(hidden_layer_sizes=(20,), max_iter=2500,\n",
       "                               random_state=0, solver='lbfgs'))])</pre></div></div></div><div class=\"sk-serial\"><div class=\"sk-item\"><div class=\"sk-label-container\"><div class=\"sk-label sk-toggleable\"><input class=\"sk-toggleable__control sk-hidden--visually\" id=\"f2259e58-e7ee-4b89-9f33-580e5792df3c\" type=\"checkbox\" ><label class=\"sk-toggleable__label\" for=\"f2259e58-e7ee-4b89-9f33-580e5792df3c\">pipeline: Pipeline</label><div class=\"sk-toggleable__content\"><pre>Pipeline(steps=[('customimputer', CustomImputer()),\n",
       "                ('columntransformer',\n",
       "                 ColumnTransformer(transformers=[('trans1',\n",
       "                                                  Pipeline(steps=[('simpleimputer',\n",
       "                                                                   SimpleImputer()),\n",
       "                                                                  ('kbinsdiscretizer',\n",
       "                                                                   KBinsDiscretizer(encode='ordinal',\n",
       "                                                                                    n_bins=3,\n",
       "                                                                                    strategy='kmeans'))]),\n",
       "                                                  ['Runtime']),\n",
       "                                                 ('trans2',\n",
       "                                                  Pipeline(steps=[('directors_transformer',\n",
       "                                                                   Directors_Transformer()),\n",
       "                                                                  ('stars_transformer',\n",
       "                                                                   Stars_Transformer()),\n",
       "                                                                  ('genretransformer',\n",
       "                                                                   GenreTransformer())]),\n",
       "                                                  ['Directors', 'Stars',\n",
       "                                                   'Genre'])])),\n",
       "                ('standardscaler', StandardScaler())])</pre></div></div></div><div class=\"sk-serial\"><div class=\"sk-item\"><div class=\"sk-estimator sk-toggleable\"><input class=\"sk-toggleable__control sk-hidden--visually\" id=\"259a3f78-13e1-4b84-901a-83b4b0e72a66\" type=\"checkbox\" ><label class=\"sk-toggleable__label\" for=\"259a3f78-13e1-4b84-901a-83b4b0e72a66\">CustomImputer</label><div class=\"sk-toggleable__content\"><pre>CustomImputer()</pre></div></div></div><div class=\"sk-item sk-dashed-wrapped\"><div class=\"sk-label-container\"><div class=\"sk-label sk-toggleable\"><input class=\"sk-toggleable__control sk-hidden--visually\" id=\"05f91829-a70f-49f6-8bd5-58b0cba95873\" type=\"checkbox\" ><label class=\"sk-toggleable__label\" for=\"05f91829-a70f-49f6-8bd5-58b0cba95873\">columntransformer: ColumnTransformer</label><div class=\"sk-toggleable__content\"><pre>ColumnTransformer(transformers=[('trans1',\n",
       "                                 Pipeline(steps=[('simpleimputer',\n",
       "                                                  SimpleImputer()),\n",
       "                                                 ('kbinsdiscretizer',\n",
       "                                                  KBinsDiscretizer(encode='ordinal',\n",
       "                                                                   n_bins=3,\n",
       "                                                                   strategy='kmeans'))]),\n",
       "                                 ['Runtime']),\n",
       "                                ('trans2',\n",
       "                                 Pipeline(steps=[('directors_transformer',\n",
       "                                                  Directors_Transformer()),\n",
       "                                                 ('stars_transformer',\n",
       "                                                  Stars_Transformer()),\n",
       "                                                 ('genretransformer',\n",
       "                                                  GenreTransformer())]),\n",
       "                                 ['Directors', 'Stars', 'Genre'])])</pre></div></div></div><div class=\"sk-parallel\"><div class=\"sk-parallel-item\"><div class=\"sk-item\"><div class=\"sk-label-container\"><div class=\"sk-label sk-toggleable\"><input class=\"sk-toggleable__control sk-hidden--visually\" id=\"d9efa975-16ad-46ae-bfb7-ba8b8d5a1119\" type=\"checkbox\" ><label class=\"sk-toggleable__label\" for=\"d9efa975-16ad-46ae-bfb7-ba8b8d5a1119\">trans1</label><div class=\"sk-toggleable__content\"><pre>['Runtime']</pre></div></div></div><div class=\"sk-serial\"><div class=\"sk-item\"><div class=\"sk-serial\"><div class=\"sk-item\"><div class=\"sk-estimator sk-toggleable\"><input class=\"sk-toggleable__control sk-hidden--visually\" id=\"a5863caa-566b-41a0-8d24-c682c517c910\" type=\"checkbox\" ><label class=\"sk-toggleable__label\" for=\"a5863caa-566b-41a0-8d24-c682c517c910\">SimpleImputer</label><div class=\"sk-toggleable__content\"><pre>SimpleImputer()</pre></div></div></div><div class=\"sk-item\"><div class=\"sk-estimator sk-toggleable\"><input class=\"sk-toggleable__control sk-hidden--visually\" id=\"92c3ee97-e37e-4e87-9bde-b4800deefb97\" type=\"checkbox\" ><label class=\"sk-toggleable__label\" for=\"92c3ee97-e37e-4e87-9bde-b4800deefb97\">KBinsDiscretizer</label><div class=\"sk-toggleable__content\"><pre>KBinsDiscretizer(encode='ordinal', n_bins=3, strategy='kmeans')</pre></div></div></div></div></div></div></div></div><div class=\"sk-parallel-item\"><div class=\"sk-item\"><div class=\"sk-label-container\"><div class=\"sk-label sk-toggleable\"><input class=\"sk-toggleable__control sk-hidden--visually\" id=\"677b7588-cc35-4aba-be5a-4cfdeab1d956\" type=\"checkbox\" ><label class=\"sk-toggleable__label\" for=\"677b7588-cc35-4aba-be5a-4cfdeab1d956\">trans2</label><div class=\"sk-toggleable__content\"><pre>['Directors', 'Stars', 'Genre']</pre></div></div></div><div class=\"sk-serial\"><div class=\"sk-item\"><div class=\"sk-serial\"><div class=\"sk-item\"><div class=\"sk-estimator sk-toggleable\"><input class=\"sk-toggleable__control sk-hidden--visually\" id=\"d87f66fb-1a3d-408a-89fa-49947c9a8879\" type=\"checkbox\" ><label class=\"sk-toggleable__label\" for=\"d87f66fb-1a3d-408a-89fa-49947c9a8879\">Directors_Transformer</label><div class=\"sk-toggleable__content\"><pre>Directors_Transformer()</pre></div></div></div><div class=\"sk-item\"><div class=\"sk-estimator sk-toggleable\"><input class=\"sk-toggleable__control sk-hidden--visually\" id=\"a4713969-c02a-4ca8-828d-3739cf014b67\" type=\"checkbox\" ><label class=\"sk-toggleable__label\" for=\"a4713969-c02a-4ca8-828d-3739cf014b67\">Stars_Transformer</label><div class=\"sk-toggleable__content\"><pre>Stars_Transformer()</pre></div></div></div><div class=\"sk-item\"><div class=\"sk-estimator sk-toggleable\"><input class=\"sk-toggleable__control sk-hidden--visually\" id=\"a8d315bb-fb68-4ab7-a2bf-40dd62af8e74\" type=\"checkbox\" ><label class=\"sk-toggleable__label\" for=\"a8d315bb-fb68-4ab7-a2bf-40dd62af8e74\">GenreTransformer</label><div class=\"sk-toggleable__content\"><pre>GenreTransformer()</pre></div></div></div></div></div></div></div></div></div></div><div class=\"sk-item\"><div class=\"sk-estimator sk-toggleable\"><input class=\"sk-toggleable__control sk-hidden--visually\" id=\"fb192db8-ea52-4105-b1e0-1ce7fdf19a06\" type=\"checkbox\" ><label class=\"sk-toggleable__label\" for=\"fb192db8-ea52-4105-b1e0-1ce7fdf19a06\">StandardScaler</label><div class=\"sk-toggleable__content\"><pre>StandardScaler()</pre></div></div></div></div></div><div class=\"sk-item\"><div class=\"sk-estimator sk-toggleable\"><input class=\"sk-toggleable__control sk-hidden--visually\" id=\"184df3f6-1dce-4ed6-a6b5-4e74261d5f92\" type=\"checkbox\" ><label class=\"sk-toggleable__label\" for=\"184df3f6-1dce-4ed6-a6b5-4e74261d5f92\">MLPClassifier</label><div class=\"sk-toggleable__content\"><pre>MLPClassifier(hidden_layer_sizes=(20,), max_iter=2500, random_state=0,\n",
       "              solver='lbfgs')</pre></div></div></div></div></div></div></div>"
      ],
      "text/plain": [
       "Pipeline(steps=[('pipeline',\n",
       "                 Pipeline(steps=[('customimputer', CustomImputer()),\n",
       "                                 ('columntransformer',\n",
       "                                  ColumnTransformer(transformers=[('trans1',\n",
       "                                                                   Pipeline(steps=[('simpleimputer',\n",
       "                                                                                    SimpleImputer()),\n",
       "                                                                                   ('kbinsdiscretizer',\n",
       "                                                                                    KBinsDiscretizer(encode='ordinal',\n",
       "                                                                                                     n_bins=3,\n",
       "                                                                                                     strategy='kmeans'))]),\n",
       "                                                                   ['Runtime']),\n",
       "                                                                  ('trans2',\n",
       "                                                                   Pipeline(steps=[('directors_transformer',\n",
       "                                                                                    Directors_Transformer()),\n",
       "                                                                                   ('stars_transformer',\n",
       "                                                                                    Stars_Transformer()),\n",
       "                                                                                   ('genretransformer',\n",
       "                                                                                    GenreTransformer())]),\n",
       "                                                                   ['Directors',\n",
       "                                                                    'Stars',\n",
       "                                                                    'Genre'])])),\n",
       "                                 ('standardscaler', StandardScaler())])),\n",
       "                ('mlpclassifier',\n",
       "                 MLPClassifier(hidden_layer_sizes=(20,), max_iter=2500,\n",
       "                               random_state=0, solver='lbfgs'))])"
      ]
     },
     "execution_count": 37,
     "metadata": {},
     "output_type": "execute_result"
    }
   ],
   "source": [
    "from sklearn import linear_model\n",
    "from sklearn.linear_model import ElasticNet,LinearRegression\n",
    "from sklearn.preprocessing import PolynomialFeatures\n",
    "model = MLPClassifier(hidden_layer_sizes=(20,), activation='relu',\n",
    "                                 solver='lbfgs', max_iter=2500, random_state=0)\n",
    "full_pipeline = make_pipeline(preprocess_pipeline,model)\n",
    "full_pipeline"
   ]
  },
  {
   "cell_type": "code",
   "execution_count": 38,
   "metadata": {},
   "outputs": [],
   "source": [
    "preprocessed_train_X=preprocess_pipeline.fit_transform(train_X_df)\n",
    "preprocessed_val_X=preprocess_pipeline.transform(val_X_df)"
   ]
  },
  {
   "cell_type": "code",
   "execution_count": null,
   "metadata": {},
   "outputs": [],
   "source": [
    "# full_pipeline.get_params().keys()"
   ]
  },
  {
   "cell_type": "code",
   "execution_count": 39,
   "metadata": {},
   "outputs": [
    {
     "name": "stderr",
     "output_type": "stream",
     "text": [
      "/opt/conda/lib/python3.7/site-packages/sklearn/neural_network/_multilayer_perceptron.py:471: ConvergenceWarning: lbfgs failed to converge (status=1):\n",
      "STOP: TOTAL NO. of ITERATIONS REACHED LIMIT.\n",
      "\n",
      "Increase the number of iterations (max_iter) or scale the data as shown in:\n",
      "    https://scikit-learn.org/stable/modules/preprocessing.html\n",
      "  self.n_iter_ = _check_optimize_result(\"lbfgs\", opt_res, self.max_iter)\n"
     ]
    }
   ],
   "source": [
    "train_errs = []\n",
    "val_errs = []\n",
    "alphas = [0.1, 1, 10, 100]\n",
    "kbins = [2,3, 4, 5, 6]\n",
    "\n",
    "best_val_err = float('inf'); best_alpha = None; best_k_bin = None\n",
    "for alpha in alphas:\n",
    "    for bins in kbins:\n",
    "        # YOUR CODE HERE\n",
    "\n",
    "        full_pipeline.set_params(pipeline__columntransformer__trans1__kbinsdiscretizer__n_bins=bins, mlpclassifier__alpha=alpha)\n",
    "\n",
    "        full_pipeline.fit(train_X_df,train_y_sr)\n",
    "        train_errs.append(1-full_pipeline.score(train_X_df,train_y_sr))\n",
    "        full_pipeline.predict(val_X_df)\n",
    "        val_err=(1-full_pipeline.score(val_X_df,val_y_sr))*100\n",
    "        val_errs.append(val_err)\n",
    "        if( best_val_err > val_err):\n",
    "            best_val_err= val_err\n",
    "            best_alpha= alpha\n",
    "            best_k_bin = bins"
   ]
  },
  {
   "cell_type": "code",
   "execution_count": null,
   "metadata": {},
   "outputs": [],
   "source": []
  },
  {
   "cell_type": "code",
   "execution_count": 40,
   "metadata": {},
   "outputs": [
    {
     "name": "stdout",
     "output_type": "stream",
     "text": [
      "Độ lỗi của mô hình    \t\t 17.49\n",
      "Độ chính xác của mô hình\t 82.51\n"
     ]
    }
   ],
   "source": [
    "full_pipeline.set_params(pipeline__columntransformer__trans1__kbinsdiscretizer__n_bins=best_k_bin, mlpclassifier__alpha=best_alpha)\n",
    "score= full_pipeline.score(val_X_df,val_y_sr)*100\n",
    "print('Độ lỗi của mô hình    \\t\\t',round(100-score,2))\n",
    "print('Độ chính xác của mô hình\\t',100-round(100-score,2))"
   ]
  },
  {
   "cell_type": "markdown",
   "metadata": {},
   "source": [
    "### IV. KHÓ KHĂN, THUẬN LỢI, BÀI HỌC VÀ HƯỚNG PHÁT TRIỂN"
   ]
  },
  {
   "cell_type": "markdown",
   "metadata": {},
   "source": [
    "- Thuận lợi:\n",
    "    - Dữ liệu lấy khá dễ dàng từ IMDB\n",
    "    - Khá ít thuộc tính, không quá phức tạp để xử lý\n",
    "    - Dữ liệu vừa phải không quá lớn, không gây quá tải\n",
    "- Khó khăn:\n",
    "    - Để dự đoán rating chỉ dựa vào một số thuộc tính có sẵn trên trang IMDB thì thật sự khá khó\n",
    "    - Score mô hình khá thấp, theo chủ quan của nhóm nghĩ là những thuộc tính này chưa thật sự đủ và tiền xử lý dữ liệu cũng như feature engineering cũng chưa thật sự hiểu quả để cho mô hình có score cao hơn\n",
    "    \n",
    "- Bài học:\n",
    "    - Trong việc phân tích một câu hỏi có ý nghĩa, điều quan trọng nhất là tìm chủ đề, rồi định hướng\n",
    "    - Dữ liệu thường khó tìm, phải tìm rất nhiều mới ra dữ liệu có vẻ ổn, kinh nghiệm tìm kiếm data cũng được nâng cao một phân.\n",
    "    \n",
    "- Hướng phát triển:\n",
    "    - Tìm dữ liệu sạch hơn để khai phá\n",
    "    - Phân tích sâu hơn về nội dung, kỹ xảo, tiền đầu tư của phim, để có những kiến thức quyết định hơn\n",
    "    "
   ]
  },
  {
   "cell_type": "markdown",
   "metadata": {},
   "source": [
    "### V. TÀI LIỆU KHAM KHẢO\n",
    "<ul><b>\n",
    "    <a href=\"https://www.dienmayxanh.com/kinh-nghiem-hay/diem-imdb-la-gi-cach-chon-phim-hay-dua-tren-diem-i-1201923\">IMBD là gì?</a><br>\n",
    "    <a href=\"https://scikit-learn.org/stable/modules/generated/sklearn.preprocessing.KBinsDiscretizer.html\">KBinsDiscretizer trong sklearn</a>\n",
    "\n",
    "\n",
    "\n",
    "</b>\n",
    "</ul>"
   ]
  }
 ],
 "metadata": {
  "kernelspec": {
   "display_name": "Python 3",
   "language": "python",
   "name": "python3"
  },
  "language_info": {
   "codemirror_mode": {
    "name": "ipython",
    "version": 3
   },
   "file_extension": ".py",
   "mimetype": "text/x-python",
   "name": "python",
   "nbconvert_exporter": "python",
   "pygments_lexer": "ipython3",
   "version": "3.7.1"
  },
  "varInspector": {
   "cols": {
    "lenName": 16,
    "lenType": 16,
    "lenVar": 40
   },
   "kernels_config": {
    "python": {
     "delete_cmd_postfix": "",
     "delete_cmd_prefix": "del ",
     "library": "var_list.py",
     "varRefreshCmd": "print(var_dic_list())"
    },
    "r": {
     "delete_cmd_postfix": ") ",
     "delete_cmd_prefix": "rm(",
     "library": "var_list.r",
     "varRefreshCmd": "cat(var_dic_list()) "
    }
   },
   "types_to_exclude": [
    "module",
    "function",
    "builtin_function_or_method",
    "instance",
    "_Feature"
   ],
   "window_display": false
  }
 },
 "nbformat": 4,
 "nbformat_minor": 4
}

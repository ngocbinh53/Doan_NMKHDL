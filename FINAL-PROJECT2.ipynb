{
 "cells": [
  {
   "cell_type": "markdown",
   "metadata": {},
   "source": [
    "##    ĐỒ ÁN CUỐI KỲ MÔN: NHẬP MÔN KHOA HỌC DỮ LIỆU (HCMUS)\n",
    "<ul><h2>GV: TRẦN TRUNG KIÊN <br> SV: Nguyễn Ngọc Bình - Nguyễn Duy Khải</h2></ul>\n",
    " "
   ]
  },
  {
   "cell_type": "markdown",
   "metadata": {},
   "source": [
    "<p></p>"
   ]
  },
  {
   "cell_type": "markdown",
   "metadata": {},
   "source": [
    "### ĐỒ ÁN NÀY THỰC HIỆN MỘT CÂU HỎI: Đánh giá chỉ số IMDB của những bộ phim gần đây (2019-2020)"
   ]
  },
  {
   "cell_type": "markdown",
   "metadata": {},
   "source": [
    "### CÂU HỎI NÀY CÓ Ý NGHĨA GÌ?\n",
    "### <ul> Sẽ mang chọn được phim hay mà xem <br> <br>Nhà làm phim sẽ biết những thứ gì họ cần để thu hút người xem ngoài kich bản hay</ul>\n"
   ]
  },
  {
   "cell_type": "markdown",
   "metadata": {},
   "source": [
    "### QUY TRÌNH THỰC HIỆN\n",
    "<h3> <ul>\n",
    "        Crawl dữ liệu từ web <br><br>\n",
    "        Khám phá dữ liệu <br><br>\n",
    "        Tiền xử lý dữ liệu <br><br>\n",
    "        Chọn mô hình cho bài toán <br><br>\n",
    "        Khó khăn, thuận lợi, bài học và hướng phát triển   <br><br>\n",
    "        Tài liệu kham khảo \n",
    "</ul></h3>\n"
   ]
  },
  {
   "cell_type": "markdown",
   "metadata": {},
   "source": [
    "### CÁC THƯ VIỆN SỬ DỤNG"
   ]
  },
  {
   "cell_type": "code",
   "execution_count": 30,
   "metadata": {},
   "outputs": [],
   "source": [
    "import requests\n",
    "from bs4 import BeautifulSoup\n",
    "import pandas as pd\n",
    "import numpy as np\n",
    "import datetime as dt \n",
    "import time\n",
    "import matplotlib.pyplot as plt\n",
    "import re\n",
    "\n",
    "from sklearn.model_selection import train_test_split\n",
    "from sklearn.preprocessing import OneHotEncoder, StandardScaler\n",
    "from sklearn.impute import SimpleImputer\n",
    "from sklearn.base import BaseEstimator, TransformerMixin\n",
    "from sklearn.pipeline import Pipeline, make_pipeline\n",
    "from sklearn.compose import ColumnTransformer, make_column_transformer\n",
    "from sklearn.neural_network import MLPClassifier\n",
    "from sklearn.preprocessing import KBinsDiscretizer\n",
    "from sklearn import set_config\n",
    "set_config(display='diagram') # Để trực quan hóa pipeline"
   ]
  },
  {
   "cell_type": "markdown",
   "metadata": {},
   "source": [
    "### I. CRAWl DỮ LIỆU TỪ WEBSITE"
   ]
  },
  {
   "cell_type": "markdown",
   "metadata": {},
   "source": [
    "<ul> Dữ liệu đánh giá phim nhóm lấy từ website  <a href=\"https://www.imdb.com\"> <b>IMDB</b></a>, đây là một website đánh giá và review phim khá uy tín mà nhóm đã tìm hiểu được. Trong hầu hết website phim thì luôn đề cập điểm imdb (là cái điểm cạnh ngôi sao mà những bộ phim hay để), để bước tiếp thì nhóm sẽ nói sơ về điểm imdb <b>(Internet Movie Database) </b>  là một thư viện điện ảnh cung cấp nhiều chủ đề như phim, đạo diễn, diễn viên, phim và nhiều loại hình giải trí. Nổi bậc hơn là nơi đánh giá các bộ phim trên thang điểm 10 với các tiêu chí: kịch bản, diễn xuất, bối cảnh, hiệu ứng kỹ xảo và kỹ thuât quy phim. Điểm này được đánh giá bởi đông đảo những người xem nên độ tin cậy cũng khá ổn.</ul>"
   ]
  },
  {
   "cell_type": "markdown",
   "metadata": {},
   "source": [
    "<ul>Một bộ phim gồm nhiều thông tin, nhưng do mục tiêu nên nhóm chỉ lấy tên phim, xếp hạng của phim, thể loại, đạo diễn và các diễn viên có tiếng. Nhận thấy có 2 cái xếp hạng, 1 là IMDB với 1 cái là metascore, nhóm chọn IMDB </ul>"
   ]
  },
  {
   "cell_type": "markdown",
   "metadata": {},
   "source": [
    "![Image of Yaktocat](https://scontent.fhan4-1.fna.fbcdn.net/v/t1.15752-9/135584979_1159547281146246_6991992338298078328_n.jpg?_nc_cat=108&ccb=2&_nc_sid=ae9488&_nc_ohc=M0cf_xn1D_sAX8B4IzV&_nc_ht=scontent.fhan4-1.fna&oh=2f6e05a73d2232473e5ed90afa97cef4&oe=6020D28A)"
   ]
  },
  {
   "cell_type": "markdown",
   "metadata": {},
   "source": [
    "<ul>\n",
    "    <h3>Lấy dữ liệu bộ phim trong hai năm gần đây </h3><br>\n",
    "    <ul>\n",
    "        Trong phạm vi giới hạn của nhóm, nhóm chỉ lấy vài thông tin như là tên movie, thời gian chiếu, thể loại, tên đạo diễn và ngôi sao tham dự và hạng\n",
    "    </ul>\n",
    "</ul>\n",
    "\n"
   ]
  },
  {
   "cell_type": "markdown",
   "metadata": {},
   "source": [
    "<h3><ul>Năm 2019</ul></h3>"
   ]
  },
  {
   "cell_type": "code",
   "execution_count": null,
   "metadata": {},
   "outputs": [],
   "source": [
    "df = pd.DataFrame(columns=['Title','Runtime','Genre','Rating','Directors','Stars'])\n",
    "for i in range(200):\n",
    "\n",
    "    time.sleep(0.01)\n",
    "    page = 1+50*i\n",
    "    print(page)\n",
    "    url = f'https://www.imdb.com/search/title/?title_type=feature&year=2019-01-01,2019-12-31&start={page}&ref_=adv_nxt'\n",
    "    html_text = requests.get(url).text\n",
    "    tree = BeautifulSoup(html_text, 'html.parser')\n",
    "    movies = tree.find_all('div', {'class': 'lister-item-content'})\n",
    "    \n",
    "    for movie in movies[:]:\n",
    "        rating = movie.find('strong')#.text\n",
    "        title = movie.find('h3',{'class':'lister-item-header'}).text.replace('\\n',' ')#[4:-2]\n",
    "        genre  = movie.find('p', {'class':'text-muted'})\\\n",
    "                        .find('span', {'class':'genre'})\n",
    "        \n",
    "        directors_and_stars_p = movie.find('p',{'class':''})\n",
    "        runtime = movie.find('span', {'class':'runtime'})\n",
    "        if rating != None : \n",
    "            rating = rating.text\n",
    "            if genre: genre = genre.text.strip()\n",
    "            if runtime: runtime = runtime.text.split(' ')[0].replace(',','')\n",
    "                \n",
    "            directors = re.search(r'(Directors|Director):([.\\s\\S]+)\\|', directors_and_stars_p.text)\n",
    "            stars = re.search(r'(Stars|Star):([.\\s\\S]+)', directors_and_stars_p.text)\n",
    "            if (directors): directors = ','.join(directors[2].strip().split(', \\n'))\n",
    "            if (stars): stars = ','.join(stars[2].strip().split(', \\n'))\n",
    "            df = df.append({'Title':title,'Runtime': runtime,'Genre':genre,'Rating':rating,'Directors':directors,'Stars':stars}, ignore_index = True)\n",
    "\n",
    "df.to_csv('movie2019.csv', index = False, encoding = 'utf-8')"
   ]
  },
  {
   "cell_type": "markdown",
   "metadata": {},
   "source": [
    "<h3><ul>Năm 2020</ul></h3>"
   ]
  },
  {
   "cell_type": "code",
   "execution_count": null,
   "metadata": {},
   "outputs": [],
   "source": [
    "def add_dict_value_other(s,dict_temp): \n",
    "    s=s[s.find('Director'):].replace('\\n','').replace('Votes','|Votes').split('|')\n",
    "    for item in s:\n",
    "        temp =item.strip().split(':')\n",
    "        if(temp[0]=='Director' or temp[0]=='Stars'):\n",
    "            dict_temp[temp[0]]=temp[1] "
   ]
  },
  {
   "cell_type": "code",
   "execution_count": null,
   "metadata": {},
   "outputs": [],
   "source": [
    "num_title= 1\n",
    "max_num =9881\n",
    "check_break=0\n",
    "action_movie=[]\n",
    "num_movies=0\n",
    "while(1):\n",
    "    if(num_title==1):\n",
    "        link_page=f'https://www.imdb.com/search/title/?title_type=feature&year=2020-01-01,2020-12-31&sort=year,desc'\n",
    "    else:\n",
    "        link_page = f'https://www.imdb.com/search/title/?title_type=feature&year=2020-01-01,2020-12-31&sort=year,desc&start={num_title}&ref_=adv_nxt'\n",
    "    #lấy nội dung lưu vào dict\n",
    "    html_text = requests.get(link_page).text\n",
    "    tree = BeautifulSoup(html_text, 'html.parser')\n",
    "    movies = tree.find_all('div',{'class':'lister-item mode-advanced'})\n",
    "    for movie in movies:\n",
    "        num_movies+=1\n",
    "        dict_temp_movie ={}\n",
    "        header=movie.find('h3',{'class':'lister-item-header'})\n",
    "        dict_temp_movie['Name']= header.a.text\n",
    "        text_muted =movie.find('p',{'class':'text-muted '})\n",
    "        try:\n",
    "            runtime=int(text_muted.find('span','runtime').text.split()[0])\n",
    "        except:\n",
    "            runtime=0\n",
    "        dict_temp_movie['Runtime']=runtime\n",
    "        try:\n",
    "            genre=text_muted.find('span','genre').text.strip().strip('\\n').strip(' ')#.split(', ')\n",
    "        except:\n",
    "            genre=None\n",
    "        dict_temp_movie['Genre']=genre\n",
    "        ratings_bar =movie.find('div',{'class':'ratings-bar'})\n",
    "        try:\n",
    "            IMDB_score =float(ratings_bar.find('div',{'class':'inline-block ratings-imdb-rating'})['data-value'])\n",
    "            dict_temp_movie['IMDB'] = IMDB_score\n",
    "            sort_num_votes_visible = movie.find('p','sort-num_votes-visible').text\n",
    "            add_dict_value_other(movie.text,dict_temp_movie)\n",
    "            action_movie.append(dict_temp_movie)\n",
    "        except:\n",
    "            pass\n",
    "    time.sleep(1)\n",
    "    if(num_movies>=max_num):\n",
    "        break\n",
    "    num_title+=50\n",
    "df = pd.DataFrame(action_movie)\n",
    "df.to_csv('movies2020.csv',index=False)"
   ]
  },
  {
   "cell_type": "markdown",
   "metadata": {},
   "source": [
    "## II.Khám phá dữ liệu (đủ để có thể xác định câu hỏi)\n",
    "<ul>Đọc hai file csv lên để gộp và xử lý</ul>"
   ]
  },
  {
   "cell_type": "code",
   "execution_count": 34,
   "metadata": {},
   "outputs": [],
   "source": [
    "df2020= pd.read_csv('movies2020.csv')\n",
    "df2019=pd.read_csv('movies2019.csv')\n",
    "df2020.rename(columns = {'Name':'Title','IMDB':'Rating','Director':'Directors'}, inplace = True)\n",
    "df=pd.concat([df2019,df2020],ignore_index=True)"
   ]
  },
  {
   "cell_type": "code",
   "execution_count": 35,
   "metadata": {},
   "outputs": [
    {
     "data": {
      "text/html": [
       "<div>\n",
       "<style scoped>\n",
       "    .dataframe tbody tr th:only-of-type {\n",
       "        vertical-align: middle;\n",
       "    }\n",
       "\n",
       "    .dataframe tbody tr th {\n",
       "        vertical-align: top;\n",
       "    }\n",
       "\n",
       "    .dataframe thead th {\n",
       "        text-align: right;\n",
       "    }\n",
       "</style>\n",
       "<table border=\"1\" class=\"dataframe\">\n",
       "  <thead>\n",
       "    <tr style=\"text-align: right;\">\n",
       "      <th></th>\n",
       "      <th>Title</th>\n",
       "      <th>Runtime</th>\n",
       "      <th>Genre</th>\n",
       "      <th>Rating</th>\n",
       "      <th>Directors</th>\n",
       "      <th>Stars</th>\n",
       "    </tr>\n",
       "  </thead>\n",
       "  <tbody>\n",
       "    <tr>\n",
       "      <th>0</th>\n",
       "      <td>1. The Gentlemen (2019)</td>\n",
       "      <td>113.0</td>\n",
       "      <td>Action, Comedy, Crime</td>\n",
       "      <td>7.8</td>\n",
       "      <td>Guy Ritchie</td>\n",
       "      <td>Matthew McConaughey,Charlie Hunnam,Michelle Do...</td>\n",
       "    </tr>\n",
       "    <tr>\n",
       "      <th>1</th>\n",
       "      <td>2. Knives Out (2019)</td>\n",
       "      <td>130.0</td>\n",
       "      <td>Comedy, Crime, Drama</td>\n",
       "      <td>7.9</td>\n",
       "      <td>Rian Johnson</td>\n",
       "      <td>Daniel Craig,Chris Evans,Ana de Armas,Jamie Le...</td>\n",
       "    </tr>\n",
       "    <tr>\n",
       "      <th>2</th>\n",
       "      <td>3. 1917 (2019)</td>\n",
       "      <td>119.0</td>\n",
       "      <td>Drama, Thriller, War</td>\n",
       "      <td>8.3</td>\n",
       "      <td>Sam Mendes</td>\n",
       "      <td>Dean-Charles Chapman,George MacKay,Daniel Mays...</td>\n",
       "    </tr>\n",
       "    <tr>\n",
       "      <th>3</th>\n",
       "      <td>4. Cats (2019)</td>\n",
       "      <td>110.0</td>\n",
       "      <td>Comedy, Drama, Family</td>\n",
       "      <td>2.8</td>\n",
       "      <td>Tom Hooper</td>\n",
       "      <td>James Corden,Judi Dench,Jason Derulo,Idris Elba</td>\n",
       "    </tr>\n",
       "    <tr>\n",
       "      <th>4</th>\n",
       "      <td>5. Gisaengchung (2019)</td>\n",
       "      <td>132.0</td>\n",
       "      <td>Comedy, Drama, Thriller</td>\n",
       "      <td>8.6</td>\n",
       "      <td>Bong Joon Ho</td>\n",
       "      <td>Song Kang-Ho,Lee Sun-kyun,Cho Yeo-jeong,Choi W...</td>\n",
       "    </tr>\n",
       "  </tbody>\n",
       "</table>\n",
       "</div>"
      ],
      "text/plain": [
       "                       Title  Runtime                    Genre  Rating  \\\n",
       "0   1. The Gentlemen (2019)     113.0    Action, Comedy, Crime     7.8   \n",
       "1      2. Knives Out (2019)     130.0     Comedy, Crime, Drama     7.9   \n",
       "2            3. 1917 (2019)     119.0     Drama, Thriller, War     8.3   \n",
       "3            4. Cats (2019)     110.0    Comedy, Drama, Family     2.8   \n",
       "4    5. Gisaengchung (2019)     132.0  Comedy, Drama, Thriller     8.6   \n",
       "\n",
       "      Directors                                              Stars  \n",
       "0   Guy Ritchie  Matthew McConaughey,Charlie Hunnam,Michelle Do...  \n",
       "1  Rian Johnson  Daniel Craig,Chris Evans,Ana de Armas,Jamie Le...  \n",
       "2    Sam Mendes  Dean-Charles Chapman,George MacKay,Daniel Mays...  \n",
       "3    Tom Hooper    James Corden,Judi Dench,Jason Derulo,Idris Elba  \n",
       "4  Bong Joon Ho  Song Kang-Ho,Lee Sun-kyun,Cho Yeo-jeong,Choi W...  "
      ]
     },
     "execution_count": 35,
     "metadata": {},
     "output_type": "execute_result"
    }
   ],
   "source": [
    "df.head()"
   ]
  },
  {
   "cell_type": "markdown",
   "metadata": {},
   "source": [
    "### Dữ liệu có bao nhiêu dòng và bao nhiêu cột?"
   ]
  },
  {
   "cell_type": "code",
   "execution_count": 36,
   "metadata": {},
   "outputs": [
    {
     "data": {
      "text/plain": [
       "(10263, 6)"
      ]
     },
     "execution_count": 36,
     "metadata": {},
     "output_type": "execute_result"
    }
   ],
   "source": [
    "df.shape"
   ]
  },
  {
   "cell_type": "markdown",
   "metadata": {},
   "source": [
    "### Mỗi dòng có ý nghĩa gì? Có vấn đề các dòng có ý nghĩa khác nhau không?"
   ]
  },
  {
   "cell_type": "markdown",
   "metadata": {},
   "source": [
    "Mỗi dòng chứa thông tin của một bộ phim đã được phát hành (bộ data chứa phim phát hành 2019, 2020 đăng tải trên IMDB)"
   ]
  },
  {
   "cell_type": "markdown",
   "metadata": {},
   "source": [
    "### Mỗi cột có ý nghĩa gì?"
   ]
  },
  {
   "cell_type": "markdown",
   "metadata": {},
   "source": [
    "`Title`: Tên của bộ phim - string <br>\n",
    "`Runtime`: độ dài bộ phim (số phút) - float <br>\n",
    "`Genre`: Thể loại phim, một bộ phim có thể có nhiều thể loại - string <br>\n",
    "`Directors`: Đạo diễn bộ phim - string <br>\n",
    "`Stars`: Một số diễn viên nổi tiếng tham gia bộ phim - string <br>\n",
    "`Rating`: Đánh giá phim theo user - 0.0 đến 10.0 <br>\n"
   ]
  },
  {
   "cell_type": "code",
   "execution_count": 37,
   "metadata": {},
   "outputs": [
    {
     "data": {
      "text/plain": [
       "dtype('float64')"
      ]
     },
     "execution_count": 37,
     "metadata": {},
     "output_type": "execute_result"
    }
   ],
   "source": [
    "# Cột output hiện có kiểu dữ liệu gì?\n",
    "df['Rating'].dtype"
   ]
  },
  {
   "cell_type": "code",
   "execution_count": 38,
   "metadata": {},
   "outputs": [
    {
     "data": {
      "text/plain": [
       "0"
      ]
     },
     "execution_count": 38,
     "metadata": {},
     "output_type": "execute_result"
    }
   ],
   "source": [
    "# Cột output có giá trị thiếu không?\n",
    "df['Rating'].isna().sum()"
   ]
  },
  {
   "cell_type": "markdown",
   "metadata": {},
   "source": [
    "### III. TIỀN XỬ LÝ DỮ LIỆU\n"
   ]
  },
  {
   "cell_type": "markdown",
   "metadata": {},
   "source": [
    "### <ul> <l>  Chia tập dữ liệu </l> </ul>"
   ]
  },
  {
   "cell_type": "markdown",
   "metadata": {},
   "source": [
    "<ul><ul>Xử lý dữ liệu trống bằng thay thế các từ cần thiết, xóa những dòng dữ liệu bất thường, tạo dữ liệu để thực hiện bài toán, xóa luôn cột Title (tên phim) vi nó không mang giá trị, ý nghĩa</ul></ul>"
   ]
  },
  {
   "cell_type": "markdown",
   "metadata": {},
   "source": [
    "<h3> <ul>   Đánh giá phim </ul></h3>"
   ]
  },
  {
   "cell_type": "markdown",
   "metadata": {},
   "source": [
    "<ul><ul>\n",
    "    Với tư cách là người xem phim, tìm những phim đáng để xem thì chúng ta sẽ không quan tâm quá nhiều đến việc điểm <b>IMDB</b> như thế nào, mà chỉ quan tâm xem từ đó mình có thể chọn phim hay được không?<br>\n",
    "    Do đó, qua quá trình tìm hiểu nhiều nguồn dữ liệu trên <b><a href='https://www.google.com/'>Google</a></b> thì có vài nhận định về khoảng <b>IMBD </b> như sau:\n",
    "    <ol>Phim quá xuất sắc: IMBD >=8.0</ol>\n",
    "    <ol>Phim quá hay:  IMBD trong khoảng 7.0 - 8.0</ol>\n",
    "    <ol>Phim  bình thường: IMBD trong khoảng 5.0 - 7.0</ol>\n",
    "    <ol>Phim tệ: IMBD trong khoảng 3.0 - 5.0</ol>\n",
    "    <ol> Phim kinh khủng: IMBD dưới 3.0 </ol>\n",
    "</ul></ul>"
   ]
  },
  {
   "cell_type": "markdown",
   "metadata": {},
   "source": [
    "<h3><ul>Chuẩn hóa lại cột Rating</ul></h3>"
   ]
  },
  {
   "cell_type": "code",
   "execution_count": 39,
   "metadata": {},
   "outputs": [],
   "source": [
    "def rating_format(rating):\n",
    "    new_rating=\"\"\n",
    "    if(rating>=8.0):\n",
    "        new_rating=1\n",
    "    elif(rating>=7.0):\n",
    "        new_rating=2\n",
    "    elif(rating>=5):\n",
    "        new_rating=3\n",
    "    elif(rating>=3):\n",
    "        new_rating=4\n",
    "    else:\n",
    "        new_rating=5\n",
    "    return new_rating  "
   ]
  },
  {
   "cell_type": "code",
   "execution_count": 40,
   "metadata": {},
   "outputs": [],
   "source": [
    "df.dropna(subset=['Runtime'],inplace=True)\n",
    "df= df.reset_index(drop=True)\n",
    "df.loc[:,'Genre']=df.loc[:,'Genre'].replace(np.nan,'other')\n",
    "X_df = df.drop([\"Rating\",\"Title\"], axis=1)\n",
    "y_sr = df[\"Rating\"]\n",
    "y_sr=y_sr.apply(rating_format)"
   ]
  },
  {
   "cell_type": "code",
   "execution_count": 41,
   "metadata": {},
   "outputs": [],
   "source": [
    "train_X_df, val_X_df, train_y_sr, val_y_sr = train_test_split(X_df, y_sr, test_size=0.1, random_state=0)"
   ]
  },
  {
   "cell_type": "code",
   "execution_count": 42,
   "metadata": {},
   "outputs": [
    {
     "data": {
      "text/html": [
       "<div>\n",
       "<style scoped>\n",
       "    .dataframe tbody tr th:only-of-type {\n",
       "        vertical-align: middle;\n",
       "    }\n",
       "\n",
       "    .dataframe tbody tr th {\n",
       "        vertical-align: top;\n",
       "    }\n",
       "\n",
       "    .dataframe thead th {\n",
       "        text-align: right;\n",
       "    }\n",
       "</style>\n",
       "<table border=\"1\" class=\"dataframe\">\n",
       "  <thead>\n",
       "    <tr style=\"text-align: right;\">\n",
       "      <th></th>\n",
       "      <th>Runtime</th>\n",
       "      <th>Genre</th>\n",
       "      <th>Directors</th>\n",
       "      <th>Stars</th>\n",
       "    </tr>\n",
       "  </thead>\n",
       "  <tbody>\n",
       "    <tr>\n",
       "      <th>3037</th>\n",
       "      <td>97.0</td>\n",
       "      <td>Animation, Action, Adventure</td>\n",
       "      <td>Rajiv Chilaka,Binayak Das</td>\n",
       "      <td>Urvi Ashar,Asif Ali Beig,Jigna Bhardwaj,Rupa B...</td>\n",
       "    </tr>\n",
       "    <tr>\n",
       "      <th>7216</th>\n",
       "      <td>91.0</td>\n",
       "      <td>Comedy, Drama, Family</td>\n",
       "      <td>Gil Junger</td>\n",
       "      <td>Megan Fox, Josh Duhamel, Gabriel Bateman, Kuna...</td>\n",
       "    </tr>\n",
       "    <tr>\n",
       "      <th>7607</th>\n",
       "      <td>136.0</td>\n",
       "      <td>Comedy</td>\n",
       "      <td>Will Gordh</td>\n",
       "      <td>David Cross, Macaulay Culkin, Cody Johnston, K...</td>\n",
       "    </tr>\n",
       "    <tr>\n",
       "      <th>4070</th>\n",
       "      <td>102.0</td>\n",
       "      <td>Drama, Sport</td>\n",
       "      <td>Milad Sadrameli</td>\n",
       "      <td>Bahram Radan,Mehrdad Sedighian,Fereshteh Hosse...</td>\n",
       "    </tr>\n",
       "    <tr>\n",
       "      <th>1495</th>\n",
       "      <td>90.0</td>\n",
       "      <td>Comedy</td>\n",
       "      <td>Val Kilmer</td>\n",
       "      <td>Val Kilmer</td>\n",
       "    </tr>\n",
       "    <tr>\n",
       "      <th>...</th>\n",
       "      <td>...</td>\n",
       "      <td>...</td>\n",
       "      <td>...</td>\n",
       "      <td>...</td>\n",
       "    </tr>\n",
       "    <tr>\n",
       "      <th>7891</th>\n",
       "      <td>77.0</td>\n",
       "      <td>Crime, Drama, Thriller</td>\n",
       "      <td>Kanwal Sethi</td>\n",
       "      <td>Mouni Roy, Purab Kohli, Kiren Jogi, Kulraj Ran...</td>\n",
       "    </tr>\n",
       "    <tr>\n",
       "      <th>9225</th>\n",
       "      <td>107.0</td>\n",
       "      <td>Action, Drama, History</td>\n",
       "      <td>NaN</td>\n",
       "      <td>Basar Alemdar, Tarik Bayrak, Bugse Bilgen, Cet...</td>\n",
       "    </tr>\n",
       "    <tr>\n",
       "      <th>4859</th>\n",
       "      <td>126.0</td>\n",
       "      <td>Drama</td>\n",
       "      <td>Hemanth Karthik</td>\n",
       "      <td>Ajay,Anurag Konidena,Kairavi Thakkar</td>\n",
       "    </tr>\n",
       "    <tr>\n",
       "      <th>3264</th>\n",
       "      <td>90.0</td>\n",
       "      <td>Musical</td>\n",
       "      <td>Alena Demyanenko</td>\n",
       "      <td>Varvara Lushchyk,Maksym Lozynskyj,Vitaliy Azhn...</td>\n",
       "    </tr>\n",
       "    <tr>\n",
       "      <th>2732</th>\n",
       "      <td>100.0</td>\n",
       "      <td>Comedy, Drama</td>\n",
       "      <td>Emilie Verhamme</td>\n",
       "      <td>Maaike Cafmeyer,Servet Duran,Hilde Heijnen,Mar...</td>\n",
       "    </tr>\n",
       "  </tbody>\n",
       "</table>\n",
       "<p>8788 rows × 4 columns</p>\n",
       "</div>"
      ],
      "text/plain": [
       "      Runtime                         Genre                  Directors  \\\n",
       "3037     97.0  Animation, Action, Adventure  Rajiv Chilaka,Binayak Das   \n",
       "7216     91.0         Comedy, Drama, Family                 Gil Junger   \n",
       "7607    136.0                        Comedy                 Will Gordh   \n",
       "4070    102.0                  Drama, Sport            Milad Sadrameli   \n",
       "1495     90.0                        Comedy                 Val Kilmer   \n",
       "...       ...                           ...                        ...   \n",
       "7891     77.0        Crime, Drama, Thriller               Kanwal Sethi   \n",
       "9225    107.0        Action, Drama, History                        NaN   \n",
       "4859    126.0                         Drama            Hemanth Karthik   \n",
       "3264     90.0                       Musical           Alena Demyanenko   \n",
       "2732    100.0                 Comedy, Drama            Emilie Verhamme   \n",
       "\n",
       "                                                  Stars  \n",
       "3037  Urvi Ashar,Asif Ali Beig,Jigna Bhardwaj,Rupa B...  \n",
       "7216  Megan Fox, Josh Duhamel, Gabriel Bateman, Kuna...  \n",
       "7607  David Cross, Macaulay Culkin, Cody Johnston, K...  \n",
       "4070  Bahram Radan,Mehrdad Sedighian,Fereshteh Hosse...  \n",
       "1495                                         Val Kilmer  \n",
       "...                                                 ...  \n",
       "7891  Mouni Roy, Purab Kohli, Kiren Jogi, Kulraj Ran...  \n",
       "9225  Basar Alemdar, Tarik Bayrak, Bugse Bilgen, Cet...  \n",
       "4859               Ajay,Anurag Konidena,Kairavi Thakkar  \n",
       "3264  Varvara Lushchyk,Maksym Lozynskyj,Vitaliy Azhn...  \n",
       "2732  Maaike Cafmeyer,Servet Duran,Hilde Heijnen,Mar...  \n",
       "\n",
       "[8788 rows x 4 columns]"
      ]
     },
     "execution_count": 42,
     "metadata": {},
     "output_type": "execute_result"
    }
   ],
   "source": [
    "train_X_df"
   ]
  },
  {
   "cell_type": "code",
   "execution_count": 43,
   "metadata": {},
   "outputs": [
    {
     "data": {
      "text/plain": [
       "3037    3\n",
       "7216    3\n",
       "7607    1\n",
       "4070    3\n",
       "1495    2\n",
       "       ..\n",
       "7891    3\n",
       "9225    4\n",
       "4859    3\n",
       "3264    2\n",
       "2732    3\n",
       "Name: Rating, Length: 8788, dtype: int64"
      ]
     },
     "execution_count": 43,
     "metadata": {},
     "output_type": "execute_result"
    }
   ],
   "source": [
    "train_y_sr"
   ]
  },
  {
   "cell_type": "markdown",
   "metadata": {},
   "source": [
    "### Mỗi cột input hiện đang có kiểu dữ liệu gì? Có cột nào có kiểu dữ liệu chưa phù hợp để có thể xử lý tiếp không?"
   ]
  },
  {
   "cell_type": "code",
   "execution_count": 44,
   "metadata": {},
   "outputs": [
    {
     "data": {
      "text/plain": [
       "Runtime      float64\n",
       "Genre         object\n",
       "Directors     object\n",
       "Stars         object\n",
       "dtype: object"
      ]
     },
     "execution_count": 44,
     "metadata": {},
     "output_type": "execute_result"
    }
   ],
   "source": [
    "train_X_df.dtypes"
   ]
  },
  {
   "cell_type": "markdown",
   "metadata": {},
   "source": [
    "### Với mỗi cột input có kiểu dữ liệu dạng số, các giá trị được phân bố như thế nào?"
   ]
  },
  {
   "cell_type": "code",
   "execution_count": 11,
   "metadata": {},
   "outputs": [
    {
     "data": {
      "text/plain": [
       "Runtime    float64\n",
       "dtype: object"
      ]
     },
     "execution_count": 11,
     "metadata": {},
     "output_type": "execute_result"
    }
   ],
   "source": [
    "train_X_df.dtypes[train_X_df.dtypes != object]"
   ]
  },
  {
   "cell_type": "code",
   "execution_count": 12,
   "metadata": {},
   "outputs": [
    {
     "data": {
      "text/html": [
       "<div>\n",
       "<style scoped>\n",
       "    .dataframe tbody tr th:only-of-type {\n",
       "        vertical-align: middle;\n",
       "    }\n",
       "\n",
       "    .dataframe tbody tr th {\n",
       "        vertical-align: top;\n",
       "    }\n",
       "\n",
       "    .dataframe thead th {\n",
       "        text-align: right;\n",
       "    }\n",
       "</style>\n",
       "<table border=\"1\" class=\"dataframe\">\n",
       "  <thead>\n",
       "    <tr style=\"text-align: right;\">\n",
       "      <th></th>\n",
       "      <th>Runtime</th>\n",
       "    </tr>\n",
       "  </thead>\n",
       "  <tbody>\n",
       "    <tr>\n",
       "      <th>missing_ratio</th>\n",
       "      <td>0.0</td>\n",
       "    </tr>\n",
       "    <tr>\n",
       "      <th>min</th>\n",
       "      <td>2.0</td>\n",
       "    </tr>\n",
       "    <tr>\n",
       "      <th>lower_quartile</th>\n",
       "      <td>86.0</td>\n",
       "    </tr>\n",
       "    <tr>\n",
       "      <th>median</th>\n",
       "      <td>95.0</td>\n",
       "    </tr>\n",
       "    <tr>\n",
       "      <th>upper_quartile</th>\n",
       "      <td>110.0</td>\n",
       "    </tr>\n",
       "    <tr>\n",
       "      <th>max</th>\n",
       "      <td>10062.0</td>\n",
       "    </tr>\n",
       "  </tbody>\n",
       "</table>\n",
       "</div>"
      ],
      "text/plain": [
       "                Runtime\n",
       "missing_ratio       0.0\n",
       "min                 2.0\n",
       "lower_quartile     86.0\n",
       "median             95.0\n",
       "upper_quartile    110.0\n",
       "max             10062.0"
      ]
     },
     "execution_count": 12,
     "metadata": {},
     "output_type": "execute_result"
    }
   ],
   "source": [
    "num_cols = ['Runtime']\n",
    "def missing_ratio(df):\n",
    "    return (df.isna().mean() * 100).round(1)\n",
    "def lower_quartile(df):\n",
    "    return df.quantile(0.25).round(1)\n",
    "def median(df):\n",
    "    return df.quantile(0.5).round(1)\n",
    "def upper_quartile(df):\n",
    "    return df.quantile(0.75).round(1)\n",
    "train_X_df[num_cols].agg([missing_ratio, 'min', lower_quartile, median, upper_quartile, 'max'])"
   ]
  },
  {
   "cell_type": "markdown",
   "metadata": {},
   "source": [
    "### <ul>Tạo pipeline tiền xử lý dữ liệu </ul>"
   ]
  },
  {
   "cell_type": "markdown",
   "metadata": {},
   "source": [
    "<ul><ul>\n",
    "    <strong>Lấy dữ liệu top 100 stars trên IMDB và top 250 director trên IMDB và chuyển về dạng có hạng</strong><br>\n",
    "    Danh sách lấy dựa trên xếp hạng của IMDB: <br> \n",
    "    <a href=\"https://www.imdb.com/list/ls045252306/\"><b> - Top 100 Stars of 2018</b></a> <br>\n",
    "        <a href=\"https://www.imdb.com/list/ls028081607/\"><b> - Imdb top 250 directors of 2018</b></a>\n",
    "</ul></ul>\n",
    "\n"
   ]
  },
  {
   "cell_type": "code",
   "execution_count": 45,
   "metadata": {},
   "outputs": [],
   "source": [
    "stars_top100=['Karen Gillan', 'Bryce Dallas Howard', 'Alicia Vikander', 'Tom Hardy', 'Rebecca Ferguson', 'Lily James', 'Jessica Barden', 'Hannah John-Kamen', 'Josh Brolin', 'Tessa Thompson', 'Alexandra Daddario', 'Brie Larson', 'Carla Gugino', 'Emilia Clarke', 'Evangeline Lilly', 'Margot Robbie', 'Martha Higareda', 'Michael B. Jordan', 'Ruby Rose', 'Olivia Cooke', 'Morena Baccarin', 'Yvonne Strahovski', 'Julia Garner', 'Noah Centineo', 'Ana de Armas', 'Kiernan Shipka', 'John Krasinski', 'Meghan Markle', 'Jacob Elordi', 'Parker Posey', 'Rami Malek', 'Vanessa Kirby', 'Bonnie Aarons', 'Sonoya Mizuno', 'Zendaya', 'Debby Ryan', 'Gal Gadot', 'Emily Blunt', 'Timothée Chalamet', 'Naomi Scott', 'Jennifer Lawrence', 'Joey King', 'Tom Cruise', 'Joel Kinnaman', 'Jessica Chastain', 'Alden Ehrenreich', 'Bill Skarsgård', 'Zazie Beetz', 'Frances McDormand', 'Kate Siegel', 'Burt Reynolds', 'Amber Heard', 'Alison Brie', 'Chadwick Boseman', 'Daisy Ridley', 'Steve Wilder', 'Eliza Dushku', 'Lady Gaga', 'Zoey Deutch', 'Sally Hawkins', 'Jackson Odell', 'Allison Mack', 'Pom Klementieff', 'Jimmy Bennett', 'Abbie Cornish', 'Saoirse Ronan', 'Letitia Wright', 'Elizabeth Olsen', 'Dwayne Johnson', 'Gemma Chan', 'Rachel Brosnahan', 'Claire Foy', 'Milly Shapiro', 'Michelle Williams', 'Henry Cavill', 'Amy Adams', 'Chris Hemsworth', 'Lana Condor', 'Jason Momoa', 'Richard Madden', 'Joel Edgerton', 'Cate Blanchett', 'Alice Eve', 'Gary Oldman', 'Chris Pratt', 'Tom Holland', 'Hailee Steinfeld', 'Mina Sundwall', 'Ryan Reynolds', 'Cristin Milioti', 'Olivia Munn', 'Lucy Davis', 'Blake Lively', 'Mackenzie Foy', 'Amanda Fuller', 'Scarlett Johansson', 'Dichen Lachman', 'Sam Rockwell', 'Sofia Boutella', 'Evan Rachel Wood']\n",
    "directors_top250= ['Christopher Nolan', 'Peter Jackson', 'Quentin Tarantino', 'Martin Scorsese', 'James Cameron', 'Steven Spielberg', 'David Fincher', 'Lee Unkrich', 'Ridley Scott', 'George Lucas', 'Stanley Kubrick', 'Zack Snyder', 'Ethan Coen', 'Joel Coen', 'Gore Verbinski', 'Francis Ford Coppola', 'Bryan Singer', 'Pete Docter', 'Matthew Vaughn', 'Anthony Russo', 'Joe Russo', 'Guy Ritchie', 'Robert Zemeckis', 'Sam Raimi', 'J.J. Abrams', 'Brad Bird', 'Alfonso Cuarón', 'Lana Wachowski', 'Lilly Wachowski', 'Doug Liman', 'David Yates', 'Luc Besson', 'Clint Eastwood', 'Chris Columbus', 'Paul Greengrass', 'Marc Webb', 'Tim Burton', 'Francis Lawrence', 'Ron Howard', 'Michael Bay', 'Sam Mendes', 'Danny Boyle', 'John McTiernan', 'Neil Burger', 'Denis Villeneuve', 'Andrew Adamson', 'James Wan', 'Edgar Wright', 'Roland Emmerich', 'John Lasseter', 'David O. Russell', 'Alfred Hitchcock', 'M. Night Shyamalan', 'Todd Phillips', 'Barry Sonnenfeld', 'Phil Lord', 'Christopher Miller', 'Steven Soderbergh', 'Antoine Fuqua', 'Guillermo del Toro', 'Darren Aronofsky', 'Hayao Miyazaki', 'Alejandro G. Iñárritu', 'Mel Gibson', 'Joss Whedon', 'Louis Leterrier', 'James Mangold', 'Sergio Leone', 'Joe Johnston', 'Michael Mann', 'Frank Darabont', 'Tony Scott', 'Andrew Niccol', 'Mike Newell', 'Brian De Palma', 'Tom Shadyac', 'Andrew Stanton', 'Wes Anderson', 'Adam McKay', 'Terry Gilliam', 'Ang Lee', 'Justin Lin', 'Jon Favreau', 'Richard Linklater', 'Ben Affleck', 'Ben Stiller', 'Len Wiseman', 'Stephen Sommers', 'Woody Allen', 'Peter Berg', 'Martin Campbell', 'Duncan Jones', 'Martin McDonagh', 'Cameron Crowe', 'Paul Thomas Anderson', 'Brett Ratner', 'Joel Schumacher', 'Rob Reiner', 'Paul Verhoeven', 'Neill Blomkamp', 'David Ayer', 'Bobby Farrelly', 'Peter Farrelly', 'Jason Reitman', 'Marc Forster', 'Ron Clements', 'John Musker', 'Bill Condon', 'Jay Roach', 'Shane Black', 'Carlos Saldanha', 'Baz Luhrmann', 'Peter Weir', 'Peter Segal', 'Matt Reeves', 'Robert Rodriguez', 'Pierre Coffin', 'Sylvester Stallone', 'Simon West', 'Dennis Dugan', 'Paul Feig', 'Nancy Meyers', 'Shawn Levy', 'Tom Tykwer', 'Joe Wright', 'Alex Proyas', 'Tom McGrath', 'Jaume Collet-Serra', 'Byron Howard', 'Chris Williams', 'F. Gary Gray', 'Paul W.S. Anderson', 'Jonathan Liebesman', 'Lasse Hallström', 'D.J. Caruso', 'Chris Weitz', 'Wolfgang Petersen', 'Roman Polanski', 'Edward Zwick', 'Kevin Smith', 'Ivan Reitman', 'Spike Jonze', 'McG', 'Nicholas Stoller', 'David Lynch', 'Robert Luketic', 'Seth MacFarlane', 'Scott Derrickson', 'George Miller', 'Oliver Stone', 'David Dobkin', 'Chris Renaud', 'Richard Donner', 'Greg Mottola', 'Martin Brest', 'David Slade', 'Olivier Megaton', 'Dean DeBlois', 'Chris Sanders', 'David Twohy', 'Jon Turteltaub', 'Wes Craven', 'Eric Darnell', 'Conrad Vernon', 'David Cronenberg', 'Charles Chaplin', 'Tom Hooper', 'Billy Wilder', 'Rob Cohen', 'David Leitch', 'J.A. Bayona', 'Kenneth Branagh', 'Kathryn Bigelow', 'Larry Charles', 'Joe Carnahan', 'Anthony Minghella', 'Rob Marshall', 'Robert Schwentke', 'Darren Lynn Bousman', 'Rawson Marshall Thurber', 'Sidney Lumet', 'David Zucker', 'Mark Neveldine', 'Brian Taylor', 'Christopher McQuarrie', 'Brian Helgeland', 'Dean Parisot', 'Frank Coraci', 'Kirk Wise', 'John Landis', 'Jan de Bont', 'Judd Apatow', 'Clyde Geronimi', 'Kevin Reynolds', 'Alexander Payne', 'Keenen Ivory Wayans', 'Bennett Miller', 'Milos Forman', 'Peyton Reed', 'Barry Levinson', 'Nick Cassavetes', 'Mel Brooks', 'Wilfred Jackson', 'Hamilton Luske', 'Seth Gordon', 'Stephen Daldry', 'Baltasar Kormákur', 'John G. Avildsen', 'John Singleton', 'John Carpenter', 'Renny Harlin', 'John Hughes', 'Garry Marshall', 'Taylor Hackford', 'Lars von Trier', 'Phillip Noyce', 'Brad Silberling', 'Anne Fletcher', 'Jack Kinney', 'Bill Roberts', 'Ben Sharpsteen', 'Jerry Zucker', 'Yimou Zhang', 'Terry Jones', 'Richard Curtis', 'Wolfgang Reitherman', 'Mike Nichols', 'Nicolas Winding Refn', 'Jake Kasdan', 'John Woo', 'Paul Weitz', 'Rob Minkoff', 'Akira Kurosawa', 'Jonathan Demme', 'Chuck Russell', 'Chris Wedge', 'John Moore', 'Harold Ramis', 'Rian Johnson', 'Andy Tennant', 'Craig Gillespie', 'Terence Young', 'Gregory Hoblit', 'Nora Ephron', 'Jean-Jacques Annaud', 'Mark Waters', 'Tim Story', 'Sofia Coppola', 'James Gunn', 'Morten Tyldum']\n",
    "def create_rank_dict(rank_list):\n",
    "    rank_dict = {}\n",
    "    for i in range(len(rank_list)):\n",
    "        rank_dict[rank_list[i]]=i+1\n",
    "    return rank_dict\n",
    "rank_directors= create_rank_dict(directors_top250)\n",
    "rank_stars = create_rank_dict(stars_top100)"
   ]
  },
  {
   "cell_type": "markdown",
   "metadata": {},
   "source": [
    "<ul>\n",
    "    <ul>\n",
    "        <strong>Tạo transformer tiền xử lý các cột dữ liệu</strong>\n",
    "    </ul>\n",
    "</ul>"
   ]
  },
  {
   "cell_type": "markdown",
   "metadata": {},
   "source": [
    "<ul><ul><ul><u><b>Xử lý cột Genre:</b></u> Tách dữ liệu cột Genre thành các cột mới, với các cột mới là cacs cột phổ biến được gợi ý tren website <a href=\"https://www.imdb.com/chart/moviemeter/?ref_=nv_mv_mpm\"> <b>IMDB</b></a>, với bộ phim nào mà có thuộc tính thể loại đó sẽ đánh là 1 và ngược lại là 0\n",
    "    \n",
    "</ul></ul></ul>"
   ]
  },
  {
   "cell_type": "code",
   "execution_count": 46,
   "metadata": {},
   "outputs": [],
   "source": [
    "genres = ['Action','Adventure','Animation','Biography','Comedy','Crime','Drama','Family','Fantasy','Film-Noir','History',\n",
    "          'Horror','Music','Musical','Mystery','Romance','Sci-Fi','Sport','Thriller','War','Western']\n",
    "def GenreReplacement(string):\n",
    "    #print(string)\n",
    "    ls = string.split(', ')\n",
    "    new_ls = [x if x in genres else 'other' for x in ls]\n",
    "    return new_ls\n",
    "class GenreTransformer(BaseEstimator, TransformerMixin):\n",
    "    def fit(self, X_df, y=None):\n",
    "        return self\n",
    "    def transform(self, X_df, y=None):\n",
    "        result = X_df.copy()\n",
    "        result['Genre'] = result['Genre'].apply(GenreReplacement)\n",
    "        result[genres] = 0\n",
    "        for genre in genres:\n",
    "            result.loc[:,[genre]] = result['Genre'].apply(lambda x: 1 if genre in x else 0)\n",
    "        result.drop(columns=['Genre'], inplace = True)\n",
    "        return result"
   ]
  },
  {
   "cell_type": "markdown",
   "metadata": {},
   "source": [
    "<ul><ul><ul><u><b>Xử lý cột Directors:</u></b> Về cơ bản thì xem phim, đạo diễn nào nổi tiếng thì phim thường sẽ hay, nên cột này sẽ so sánh xem thứ hạng Director, Director nào mà quá hạng thì sẽ coi như là hạng 251 \n",
    "    \n",
    "</ul></ul></ul>"
   ]
  },
  {
   "cell_type": "code",
   "execution_count": 47,
   "metadata": {},
   "outputs": [],
   "source": [
    "def Directors_Replacement(director):\n",
    "    if(director in directors_top250 ):\n",
    "        score =rank_directors[director]\n",
    "    else:\n",
    "        score= 251\n",
    "    return score       \n",
    "class Directors_Transformer(BaseEstimator, TransformerMixin):\n",
    "    def fit(self, X_df, y=None):\n",
    "        return self\n",
    "    def transform(self, X_df, y=None):\n",
    "        result = X_df.copy()\n",
    "        result['Directors'] = result['Directors'].apply(Directors_Replacement)\n",
    "        return result"
   ]
  },
  {
   "cell_type": "markdown",
   "metadata": {},
   "source": [
    "<ul><ul><ul><u><b>Xử lý cột Directors:</u></b> Về cơ bản thì xem phim, đạo diễn nào nổi tiếng thì phim thường sẽ hay, nên cột này sẽ so sánh xem thứ hạng Director, Director nào mà quá hạng thì sẽ coi như là hạng 251 \n",
    "    \n",
    "</ul></ul></ul>"
   ]
  },
  {
   "cell_type": "code",
   "execution_count": 48,
   "metadata": {},
   "outputs": [],
   "source": [
    "def p_Stars_Replacement(stars):\n",
    "    stars_list = stars.split(',')\n",
    "    n=0\n",
    "    for star in stars_list:\n",
    "        if star in stars_top100:\n",
    "            n+=1\n",
    "    p=(n+1)/(len(stars_list)+1)\n",
    "    return  p\n",
    "def score_Stars_Replacement(stars):\n",
    "    stars_list = stars.split(',')\n",
    "    score= 102*4\n",
    "    for star in stars_list:\n",
    "        if star in stars_top100:\n",
    "            score=score-rank_stars[star]\n",
    "    return score\n",
    "               \n",
    "class Stars_Transformer(BaseEstimator, TransformerMixin):\n",
    "    def __init__(self, num_top_titles=1):\n",
    "        self.num_top_titles = num_top_titles\n",
    "    def fit(self, X_df, y=None):\n",
    "        return self\n",
    "    def transform(self, X_df, y=None):\n",
    "        result = X_df.copy()\n",
    "        result.loc[:,'Stars']=result.loc[:,'Stars'].replace(np.nan,'other')\n",
    "        result['p_stars']=result['Stars'].apply(p_Stars_Replacement)\n",
    "        result['Stars'] = result['Stars'].apply(score_Stars_Replacement)\n",
    "        return result"
   ]
  },
  {
   "cell_type": "markdown",
   "metadata": {},
   "source": [
    "<ul><ul><ul><u><b>Xử lý cột Runtime:</u></b> Một bộ phim thường có nhiều thơi gian, có phim ngắn, phim dài và phim trung bình, do không có một cái gì để chuẩn mực đo lường nên nhóm sẽ chia thời gian thành nhiều <b>bin</b> khác nhau và thực hiện bởi thuật toán <b><a href= \"https://scikit-learn.org/stable/modules/generated/sklearn.preprocessing.KBinsDiscretizer.html\"> KBinsDiscretizer </a></b> để chia thành k giỏ\n",
    "    \n",
    "</ul></ul></ul>"
   ]
  },
  {
   "cell_type": "code",
   "execution_count": 49,
   "metadata": {},
   "outputs": [],
   "source": [
    "class Runtime_Transformer(BaseEstimator, TransformerMixin):\n",
    "    def __init__(self, k_bin=3):\n",
    "        self.k_bin= k_bin\n",
    "    def fit(self, X_df, y=None):\n",
    "        return self\n",
    "    def transform(self, X_df, y=None):\n",
    "        result = X_df.copy()\n",
    "        enc = KBinsDiscretizer(n_bins=3,encode='ordinal', strategy='kmeans')\n",
    "        result['Runtime']=enc.fit_transform(X_df[['Runtime']])\n",
    "        return result"
   ]
  },
  {
   "cell_type": "code",
   "execution_count": 50,
   "metadata": {},
   "outputs": [],
   "source": [
    "class Runtime_Transformer(BaseEstimator, TransformerMixin):\n",
    "    def __init__(self, k_bin=3):\n",
    "        self.k_bin = k_bin\n",
    "    def fit(self, X_df, y=None):\n",
    "        return self\n",
    "    def transform(self, X_df, y=None):\n",
    "        result = X_df.copy()\n",
    "        enc = KBinsDiscretizer(n_bins=self.k_bin, encode='ordinal', strategy='kmeans')\n",
    "        result['Runtime']=enc.fit_transform(X_df[['Runtime']])\n",
    "        return result"
   ]
  },
  {
   "cell_type": "markdown",
   "metadata": {},
   "source": [
    "<ul>\n",
    "    <ul>\n",
    "        <strong>Tạo pipeline tiền xử lý dữ liệu với các Transformer ở trên và dùng StandardScaler</strong>\n",
    "    </ul>\n",
    "</ul>"
   ]
  },
  {
   "cell_type": "code",
   "execution_count": 51,
   "metadata": {},
   "outputs": [
    {
     "data": {
      "text/html": [
       "<style>div.sk-top-container {color: black;background-color: white;}div.sk-toggleable {background-color: white;}label.sk-toggleable__label {cursor: pointer;display: block;width: 100%;margin-bottom: 0;padding: 0.2em 0.3em;box-sizing: border-box;text-align: center;}div.sk-toggleable__content {max-height: 0;max-width: 0;overflow: hidden;text-align: left;background-color: #f0f8ff;}div.sk-toggleable__content pre {margin: 0.2em;color: black;border-radius: 0.25em;background-color: #f0f8ff;}input.sk-toggleable__control:checked~div.sk-toggleable__content {max-height: 200px;max-width: 100%;overflow: auto;}div.sk-estimator input.sk-toggleable__control:checked~label.sk-toggleable__label {background-color: #d4ebff;}div.sk-label input.sk-toggleable__control:checked~label.sk-toggleable__label {background-color: #d4ebff;}input.sk-hidden--visually {border: 0;clip: rect(1px 1px 1px 1px);clip: rect(1px, 1px, 1px, 1px);height: 1px;margin: -1px;overflow: hidden;padding: 0;position: absolute;width: 1px;}div.sk-estimator {font-family: monospace;background-color: #f0f8ff;margin: 0.25em 0.25em;border: 1px dotted black;border-radius: 0.25em;box-sizing: border-box;}div.sk-estimator:hover {background-color: #d4ebff;}div.sk-parallel-item::after {content: \"\";width: 100%;border-bottom: 1px solid gray;flex-grow: 1;}div.sk-label:hover label.sk-toggleable__label {background-color: #d4ebff;}div.sk-serial::before {content: \"\";position: absolute;border-left: 1px solid gray;box-sizing: border-box;top: 2em;bottom: 0;left: 50%;}div.sk-serial {display: flex;flex-direction: column;align-items: center;background-color: white;}div.sk-item {z-index: 1;}div.sk-parallel {display: flex;align-items: stretch;justify-content: center;background-color: white;}div.sk-parallel-item {display: flex;flex-direction: column;position: relative;background-color: white;}div.sk-parallel-item:first-child::after {align-self: flex-end;width: 50%;}div.sk-parallel-item:last-child::after {align-self: flex-start;width: 50%;}div.sk-parallel-item:only-child::after {width: 0;}div.sk-dashed-wrapped {border: 1px dashed gray;margin: 0.2em;box-sizing: border-box;padding-bottom: 0.1em;background-color: white;position: relative;}div.sk-label label {font-family: monospace;font-weight: bold;background-color: white;display: inline-block;line-height: 1.2em;}div.sk-label-container {position: relative;z-index: 2;text-align: center;}div.sk-container {display: inline-block;position: relative;}</style><div class=\"sk-top-container\"><div class=\"sk-container\"><div class=\"sk-item sk-dashed-wrapped\"><div class=\"sk-label-container\"><div class=\"sk-label sk-toggleable\"><input class=\"sk-toggleable__control sk-hidden--visually\" id=\"fbebb164-32a4-4229-93c6-8708e37dad31\" type=\"checkbox\" ><label class=\"sk-toggleable__label\" for=\"fbebb164-32a4-4229-93c6-8708e37dad31\">Pipeline</label><div class=\"sk-toggleable__content\"><pre>Pipeline(steps=[('GenreTransformer', GenreTransformer()),\n",
       "                ('Directors_Transformer', Directors_Transformer()),\n",
       "                ('Stars_Transformer', Stars_Transformer()),\n",
       "                ('Runtime_Transformer', Runtime_Transformer()),\n",
       "                ('StandardScaler', StandardScaler())])</pre></div></div></div><div class=\"sk-serial\"><div class=\"sk-item\"><div class=\"sk-estimator sk-toggleable\"><input class=\"sk-toggleable__control sk-hidden--visually\" id=\"8d13cc80-64cb-4871-a37e-08a62393eb5c\" type=\"checkbox\" ><label class=\"sk-toggleable__label\" for=\"8d13cc80-64cb-4871-a37e-08a62393eb5c\">GenreTransformer</label><div class=\"sk-toggleable__content\"><pre>GenreTransformer()</pre></div></div></div><div class=\"sk-item\"><div class=\"sk-estimator sk-toggleable\"><input class=\"sk-toggleable__control sk-hidden--visually\" id=\"711f9505-d271-4031-9d5d-200c2756d352\" type=\"checkbox\" ><label class=\"sk-toggleable__label\" for=\"711f9505-d271-4031-9d5d-200c2756d352\">Directors_Transformer</label><div class=\"sk-toggleable__content\"><pre>Directors_Transformer()</pre></div></div></div><div class=\"sk-item\"><div class=\"sk-estimator sk-toggleable\"><input class=\"sk-toggleable__control sk-hidden--visually\" id=\"6a88b02f-3cf2-4988-9e71-bf42c50f9c02\" type=\"checkbox\" ><label class=\"sk-toggleable__label\" for=\"6a88b02f-3cf2-4988-9e71-bf42c50f9c02\">Stars_Transformer</label><div class=\"sk-toggleable__content\"><pre>Stars_Transformer()</pre></div></div></div><div class=\"sk-item\"><div class=\"sk-estimator sk-toggleable\"><input class=\"sk-toggleable__control sk-hidden--visually\" id=\"6b508e23-9ec4-4774-920c-4800eecbd2fa\" type=\"checkbox\" ><label class=\"sk-toggleable__label\" for=\"6b508e23-9ec4-4774-920c-4800eecbd2fa\">Runtime_Transformer</label><div class=\"sk-toggleable__content\"><pre>Runtime_Transformer()</pre></div></div></div><div class=\"sk-item\"><div class=\"sk-estimator sk-toggleable\"><input class=\"sk-toggleable__control sk-hidden--visually\" id=\"3e100dc5-f7e3-4f67-9a49-eae17ce2b9ab\" type=\"checkbox\" ><label class=\"sk-toggleable__label\" for=\"3e100dc5-f7e3-4f67-9a49-eae17ce2b9ab\">StandardScaler</label><div class=\"sk-toggleable__content\"><pre>StandardScaler()</pre></div></div></div></div></div></div></div>"
      ],
      "text/plain": [
       "Pipeline(steps=[('GenreTransformer', GenreTransformer()),\n",
       "                ('Directors_Transformer', Directors_Transformer()),\n",
       "                ('Stars_Transformer', Stars_Transformer()),\n",
       "                ('Runtime_Transformer', Runtime_Transformer()),\n",
       "                ('StandardScaler', StandardScaler())])"
      ]
     },
     "execution_count": 51,
     "metadata": {},
     "output_type": "execute_result"
    }
   ],
   "source": [
    "preprocess_pipeline = Pipeline(\n",
    "    [\n",
    "        ('GenreTransformer',GenreTransformer()),\n",
    "        ('Directors_Transformer', Directors_Transformer()),\n",
    "        ('Stars_Transformer', Stars_Transformer()),\n",
    "        ('Runtime_Transformer',Runtime_Transformer()),\n",
    "        ('StandardScaler',StandardScaler())\n",
    "    ]\n",
    ")\n",
    "preprocess_pipeline"
   ]
  },
  {
   "cell_type": "markdown",
   "metadata": {},
   "source": [
    "<ul>\n",
    "    <ul>\n",
    "        <strong>Sử dụng pipeline vừa tạo để áp dụng lên tập train và validation</strong>\n",
    "    </ul>\n",
    "</ul>"
   ]
  },
  {
   "cell_type": "code",
   "execution_count": 52,
   "metadata": {},
   "outputs": [],
   "source": [
    "preprocessed_train_X=preprocess_pipeline.fit_transform(train_X_df)\n",
    "preprocessed_val_X=preprocess_pipeline.transform(val_X_df)"
   ]
  },
  {
   "cell_type": "markdown",
   "metadata": {},
   "source": [
    "### III. CHỌN MÔ HÌNH CHO BÀI TOÁN"
   ]
  },
  {
   "cell_type": "markdown",
   "metadata": {},
   "source": [
    "<ul><ul>Tiến hành xây dụng một pipeline để áp dụng model <b>MLPClassifier</b> cho bài toán </ul></ul>"
   ]
  },
  {
   "cell_type": "code",
   "execution_count": 53,
   "metadata": {},
   "outputs": [
    {
     "data": {
      "text/html": [
       "<style>div.sk-top-container {color: black;background-color: white;}div.sk-toggleable {background-color: white;}label.sk-toggleable__label {cursor: pointer;display: block;width: 100%;margin-bottom: 0;padding: 0.2em 0.3em;box-sizing: border-box;text-align: center;}div.sk-toggleable__content {max-height: 0;max-width: 0;overflow: hidden;text-align: left;background-color: #f0f8ff;}div.sk-toggleable__content pre {margin: 0.2em;color: black;border-radius: 0.25em;background-color: #f0f8ff;}input.sk-toggleable__control:checked~div.sk-toggleable__content {max-height: 200px;max-width: 100%;overflow: auto;}div.sk-estimator input.sk-toggleable__control:checked~label.sk-toggleable__label {background-color: #d4ebff;}div.sk-label input.sk-toggleable__control:checked~label.sk-toggleable__label {background-color: #d4ebff;}input.sk-hidden--visually {border: 0;clip: rect(1px 1px 1px 1px);clip: rect(1px, 1px, 1px, 1px);height: 1px;margin: -1px;overflow: hidden;padding: 0;position: absolute;width: 1px;}div.sk-estimator {font-family: monospace;background-color: #f0f8ff;margin: 0.25em 0.25em;border: 1px dotted black;border-radius: 0.25em;box-sizing: border-box;}div.sk-estimator:hover {background-color: #d4ebff;}div.sk-parallel-item::after {content: \"\";width: 100%;border-bottom: 1px solid gray;flex-grow: 1;}div.sk-label:hover label.sk-toggleable__label {background-color: #d4ebff;}div.sk-serial::before {content: \"\";position: absolute;border-left: 1px solid gray;box-sizing: border-box;top: 2em;bottom: 0;left: 50%;}div.sk-serial {display: flex;flex-direction: column;align-items: center;background-color: white;}div.sk-item {z-index: 1;}div.sk-parallel {display: flex;align-items: stretch;justify-content: center;background-color: white;}div.sk-parallel-item {display: flex;flex-direction: column;position: relative;background-color: white;}div.sk-parallel-item:first-child::after {align-self: flex-end;width: 50%;}div.sk-parallel-item:last-child::after {align-self: flex-start;width: 50%;}div.sk-parallel-item:only-child::after {width: 0;}div.sk-dashed-wrapped {border: 1px dashed gray;margin: 0.2em;box-sizing: border-box;padding-bottom: 0.1em;background-color: white;position: relative;}div.sk-label label {font-family: monospace;font-weight: bold;background-color: white;display: inline-block;line-height: 1.2em;}div.sk-label-container {position: relative;z-index: 2;text-align: center;}div.sk-container {display: inline-block;position: relative;}</style><div class=\"sk-top-container\"><div class=\"sk-container\"><div class=\"sk-item sk-dashed-wrapped\"><div class=\"sk-label-container\"><div class=\"sk-label sk-toggleable\"><input class=\"sk-toggleable__control sk-hidden--visually\" id=\"7719084e-48db-4e8c-99ae-4d3cfe8816c6\" type=\"checkbox\" ><label class=\"sk-toggleable__label\" for=\"7719084e-48db-4e8c-99ae-4d3cfe8816c6\">Pipeline</label><div class=\"sk-toggleable__content\"><pre>Pipeline(steps=[('pipeline',\n",
       "                 Pipeline(steps=[('GenreTransformer', GenreTransformer()),\n",
       "                                 ('Directors_Transformer',\n",
       "                                  Directors_Transformer()),\n",
       "                                 ('Stars_Transformer', Stars_Transformer()),\n",
       "                                 ('Runtime_Transformer', Runtime_Transformer()),\n",
       "                                 ('StandardScaler', StandardScaler())])),\n",
       "                ('mlpclassifier',\n",
       "                 MLPClassifier(hidden_layer_sizes=(20,), max_iter=2500,\n",
       "                               random_state=0, solver='lbfgs'))])</pre></div></div></div><div class=\"sk-serial\"><div class=\"sk-item\"><div class=\"sk-label-container\"><div class=\"sk-label sk-toggleable\"><input class=\"sk-toggleable__control sk-hidden--visually\" id=\"a067c83b-dcb2-403f-ab3d-ef6442b30d19\" type=\"checkbox\" ><label class=\"sk-toggleable__label\" for=\"a067c83b-dcb2-403f-ab3d-ef6442b30d19\">pipeline: Pipeline</label><div class=\"sk-toggleable__content\"><pre>Pipeline(steps=[('GenreTransformer', GenreTransformer()),\n",
       "                ('Directors_Transformer', Directors_Transformer()),\n",
       "                ('Stars_Transformer', Stars_Transformer()),\n",
       "                ('Runtime_Transformer', Runtime_Transformer()),\n",
       "                ('StandardScaler', StandardScaler())])</pre></div></div></div><div class=\"sk-serial\"><div class=\"sk-item\"><div class=\"sk-estimator sk-toggleable\"><input class=\"sk-toggleable__control sk-hidden--visually\" id=\"b4b93623-377e-46ed-93f5-958d708a62ab\" type=\"checkbox\" ><label class=\"sk-toggleable__label\" for=\"b4b93623-377e-46ed-93f5-958d708a62ab\">GenreTransformer</label><div class=\"sk-toggleable__content\"><pre>GenreTransformer()</pre></div></div></div><div class=\"sk-item\"><div class=\"sk-estimator sk-toggleable\"><input class=\"sk-toggleable__control sk-hidden--visually\" id=\"c3600d0f-d991-4bf9-9ed8-17f2c40c2895\" type=\"checkbox\" ><label class=\"sk-toggleable__label\" for=\"c3600d0f-d991-4bf9-9ed8-17f2c40c2895\">Directors_Transformer</label><div class=\"sk-toggleable__content\"><pre>Directors_Transformer()</pre></div></div></div><div class=\"sk-item\"><div class=\"sk-estimator sk-toggleable\"><input class=\"sk-toggleable__control sk-hidden--visually\" id=\"022d50c0-6e8b-41c0-9c7d-ead788db4f71\" type=\"checkbox\" ><label class=\"sk-toggleable__label\" for=\"022d50c0-6e8b-41c0-9c7d-ead788db4f71\">Stars_Transformer</label><div class=\"sk-toggleable__content\"><pre>Stars_Transformer()</pre></div></div></div><div class=\"sk-item\"><div class=\"sk-estimator sk-toggleable\"><input class=\"sk-toggleable__control sk-hidden--visually\" id=\"11f91dc0-a598-4f93-ba45-73dfb471ec14\" type=\"checkbox\" ><label class=\"sk-toggleable__label\" for=\"11f91dc0-a598-4f93-ba45-73dfb471ec14\">Runtime_Transformer</label><div class=\"sk-toggleable__content\"><pre>Runtime_Transformer()</pre></div></div></div><div class=\"sk-item\"><div class=\"sk-estimator sk-toggleable\"><input class=\"sk-toggleable__control sk-hidden--visually\" id=\"ee57aff2-ebcf-4bb2-8647-2db333290472\" type=\"checkbox\" ><label class=\"sk-toggleable__label\" for=\"ee57aff2-ebcf-4bb2-8647-2db333290472\">StandardScaler</label><div class=\"sk-toggleable__content\"><pre>StandardScaler()</pre></div></div></div></div></div><div class=\"sk-item\"><div class=\"sk-estimator sk-toggleable\"><input class=\"sk-toggleable__control sk-hidden--visually\" id=\"b7a41b1f-f740-4771-abaf-050464f7b9a6\" type=\"checkbox\" ><label class=\"sk-toggleable__label\" for=\"b7a41b1f-f740-4771-abaf-050464f7b9a6\">MLPClassifier</label><div class=\"sk-toggleable__content\"><pre>MLPClassifier(hidden_layer_sizes=(20,), max_iter=2500, random_state=0,\n",
       "              solver='lbfgs')</pre></div></div></div></div></div></div></div>"
      ],
      "text/plain": [
       "Pipeline(steps=[('pipeline',\n",
       "                 Pipeline(steps=[('GenreTransformer', GenreTransformer()),\n",
       "                                 ('Directors_Transformer',\n",
       "                                  Directors_Transformer()),\n",
       "                                 ('Stars_Transformer', Stars_Transformer()),\n",
       "                                 ('Runtime_Transformer', Runtime_Transformer()),\n",
       "                                 ('StandardScaler', StandardScaler())])),\n",
       "                ('mlpclassifier',\n",
       "                 MLPClassifier(hidden_layer_sizes=(20,), max_iter=2500,\n",
       "                               random_state=0, solver='lbfgs'))])"
      ]
     },
     "execution_count": 53,
     "metadata": {},
     "output_type": "execute_result"
    }
   ],
   "source": [
    "from sklearn import linear_model\n",
    "from sklearn.linear_model import ElasticNet,LinearRegression\n",
    "from sklearn.preprocessing import PolynomialFeatures\n",
    "model = MLPClassifier(hidden_layer_sizes=(20,), activation='relu',\n",
    "                                 solver='lbfgs', max_iter=2500, random_state=0)\n",
    "full_pipeline = make_pipeline(preprocess_pipeline,model)\n",
    "full_pipeline"
   ]
  },
  {
   "cell_type": "code",
   "execution_count": 54,
   "metadata": {},
   "outputs": [],
   "source": [
    "train_errs = []\n",
    "val_errs = []\n",
    "alphas = [0.1, 1, 10, 100]\n",
    "kbins = [2,3, 4, 5, 6]\n",
    "best_val_err = float('inf'); best_alpha = None; best_k_bin = None\n",
    "for alpha in alphas:\n",
    "    for bins in kbins:\n",
    "        # YOUR CODE HERE\n",
    "        full_pipeline.set_params(pipeline__Runtime_Transformer__k_bin=bins, mlpclassifier__alpha=alpha)\n",
    "        full_pipeline.fit(train_X_df,train_y_sr)\n",
    "        train_errs.append(1-full_pipeline.score(train_X_df,train_y_sr))\n",
    "        full_pipeline.predict(val_X_df)\n",
    "        val_err=(1-full_pipeline.score(val_X_df,val_y_sr))*100\n",
    "        val_errs.append(val_err)\n",
    "        if( best_val_err > val_err):\n",
    "            best_val_err= val_err\n",
    "            best_alpha= alpha\n",
    "            best_k_bin = bins"
   ]
  },
  {
   "cell_type": "code",
   "execution_count": 64,
   "metadata": {},
   "outputs": [
    {
     "name": "stdout",
     "output_type": "stream",
     "text": [
      "Độ lỗi của mô hình    \t\t 45.55\n",
      "Độ chính xác của mô hình\t 54.45\n"
     ]
    }
   ],
   "source": [
    "full_pipeline.set_params(pipeline__Runtime_Transformer__k_bin=best_k_bin, mlpclassifier__alpha=best_alpha)\n",
    "score= full_pipeline.score(val_X_df,val_y_sr)*100\n",
    "print('Độ lỗi của mô hình    \\t\\t',round(100-score,2))\n",
    "print('Độ chính xác của mô hình\\t',100-round(100-score,2))"
   ]
  },
  {
   "cell_type": "markdown",
   "metadata": {},
   "source": [
    "### IV. KHÓ KHĂN, THUẬN LỢI, BÀI HỌC VÀ HƯỚNG PHÁT TRIỂN"
   ]
  },
  {
   "cell_type": "markdown",
   "metadata": {},
   "source": [
    "- Thuận lợi:\n",
    "    - Dữ liệu lấy khá dễ dàng từ IMDB\n",
    "    - Khá ít thuộc tính, không quá phức tạp để xử lý\n",
    "    - Dữ liệu vừa phải không quá lớn, không gây quá tải\n",
    "- Khó khăn:\n",
    "    - Để dự đoán rating chỉ dựa vào một số thuộc tính có sẵn trên trang IMDB thì thật sự khá khó\n",
    "    - Score mô hình khá thấp, theo chủ quan của nhóm nghĩ là những thuộc tính này chưa thật sự đủ và tiền xử lý dữ liệu cũng như feature engineering cũng chưa thật sự hiểu quả để cho mô hình có score cao hơn\n",
    "    \n",
    "- Bài học:\n",
    "    - Trong việc phân tích một câu hỏi có ý nghĩa, điều quan trọng nhất là tìm chủ đề, rồi định hướng\n",
    "    - Dữ liệu thường khó tìm, phải tìm rất nhiều mới ra dữ liệu có vẻ ổn, kinh nghiệm tìm kiếm data cũng được nâng cao một phân.\n",
    "    \n",
    "- Hướng phát triển:\n",
    "    - Tìm dữ liệu sạch hơn để khai phá\n",
    "    - Phân tích sâu hơn về nội dung, kỹ xảo, tiền đầu tư của phim, để có những kiến thức quyết định hơn\n",
    "    "
   ]
  },
  {
   "cell_type": "markdown",
   "metadata": {},
   "source": [
    "### V. TÀI LIỆU KHAM KHẢO\n",
    "<ul><b>\n",
    "    <a href=\"https://www.dienmayxanh.com/kinh-nghiem-hay/diem-imdb-la-gi-cach-chon-phim-hay-dua-tren-diem-i-1201923\">IMBD là gì?</a><br>\n",
    "    <a href=\"https://scikit-learn.org/stable/modules/generated/sklearn.preprocessing.KBinsDiscretizer.html\">KBinsDiscretizer trong sklearn</a>\n",
    "\n",
    "\n",
    "\n",
    "</b>\n",
    "</ul>"
   ]
  }
 ],
 "metadata": {
  "kernelspec": {
   "display_name": "Python 3",
   "language": "python",
   "name": "python3"
  },
  "language_info": {
   "codemirror_mode": {
    "name": "ipython",
    "version": 3
   },
   "file_extension": ".py",
   "mimetype": "text/x-python",
   "name": "python",
   "nbconvert_exporter": "python",
   "pygments_lexer": "ipython3",
   "version": "3.7.1"
  },
  "varInspector": {
   "cols": {
    "lenName": 16,
    "lenType": 16,
    "lenVar": 40
   },
   "kernels_config": {
    "python": {
     "delete_cmd_postfix": "",
     "delete_cmd_prefix": "del ",
     "library": "var_list.py",
     "varRefreshCmd": "print(var_dic_list())"
    },
    "r": {
     "delete_cmd_postfix": ") ",
     "delete_cmd_prefix": "rm(",
     "library": "var_list.r",
     "varRefreshCmd": "cat(var_dic_list()) "
    }
   },
   "types_to_exclude": [
    "module",
    "function",
    "builtin_function_or_method",
    "instance",
    "_Feature"
   ],
   "window_display": false
  }
 },
 "nbformat": 4,
 "nbformat_minor": 2
}
